{
  "nbformat": 4,
  "nbformat_minor": 0,
  "metadata": {
    "colab": {
      "provenance": []
    },
    "kernelspec": {
      "name": "python3",
      "display_name": "Python 3"
    },
    "language_info": {
      "name": "python"
    }
  },
  "cells": [
    {
      "cell_type": "markdown",
      "source": [
        "<img src=\"https://dauphine.psl.eu/fileadmin/_processed_/9/2/csm_damier_logo_Dauphine_f7b37a1ff2.jpg\" width=\"200\" style=\"vertical-align:middle\" /> <h1>Master 222: Introduction to Python </h1>\n",
        "\n",
        "\n",
        "\n"
      ],
      "metadata": {
        "id": "p1WzPxY0ZLwS"
      }
    },
    {
      "cell_type": "markdown",
      "source": [
        "[![Open In Colab](https://colab.research.google.com/assets/colab-badge.svg)](https://colab.research.google.com/github/jandsy/introduction_python_dauphine/blob/main/Session_2/numpy_and_pandas_python_dauphine.ipynb)\n"
      ],
      "metadata": {
        "id": "n1PHyLbh0m2v"
      }
    },
    {
      "cell_type": "markdown",
      "source": [
        "# Introduction to Matplotlib\n",
        "> Matplotlib is a Python library that serves as a powerful tool for plotting and visualizing data. It is designed to produce a wide variety of plots and graphs. Matplotlib includes a sub-library called pyplot, which creates an interface similar to that of the commercial software Matlab, and contains functions very similar to it.\n",
        "\n",
        "> There are libraries like Seaborn that can automatically beautify the figures or give them a different style, but we will not be integrating them in this training.\n",
        "\n",
        "> Furthermore, Matplotlib is a very rich library, and not all its functionalities can be covered. This training chooses to explore certain functions more than others, with the overall goal of enabling any student to become proficient with the module by the end of the course.\n",
        "\n",
        "> To begin, it's necessary to import the matplotlib.pyplot module under the shortened name of 'plt'. <br>\n",
        "Once a graph is constructed, the plt.show() command will allow you to visualize it.<br>\n",
        "However, in a Notebook, like here on collab, adding %matplotlib inline at the beginning of the page will automatically display the figures with each modification or use of a pyplot command, after the execution of the cell.<br>\n",
        "\n",
        "- Import matplotlib.pyplot and add %matplotlib inline\n",
        "- Import numpy"
      ],
      "metadata": {
        "id": "43jGxudWmlm5"
      }
    },
    {
      "cell_type": "code",
      "source": [
        "## Insert your code here"
      ],
      "metadata": {
        "id": "0Odd7qtOmvLk"
      },
      "execution_count": null,
      "outputs": []
    },
    {
      "cell_type": "markdown",
      "source": [
        "**Curve Definition and Plotting**\n",
        "> A curve is, by definition, a set of points with coordinates (x, y) that may or may not be connected by a line. The more points there are, the smoother the curve will appear.\n",
        "\n",
        "> The plot() method allows for plotting curves that connect points whose x (abscissa) and y (ordinate) values are provided in lists or arrays.<br>\n",
        "To plot a graph with 'x' values on the horizontal axis and 'y' values on the vertical axis, we write: plt.plot(x,y).\n",
        "\n",
        "- Plot a curve with the x-values [0,2,4,6] and the y-values [1,4,4,8]."
      ],
      "metadata": {
        "id": "QPlaOFm5naWY"
      }
    },
    {
      "cell_type": "code",
      "source": [
        "## Insert your code here"
      ],
      "metadata": {
        "id": "2B2mywL8nj90"
      },
      "execution_count": null,
      "outputs": []
    },
    {
      "cell_type": "markdown",
      "source": [
        "**Automatic Abscissa Generation**\n",
        "\n",
        "> If only a single list or array is inserted into the plot() command, Matplotlib assumes that it's a sequence of y (ordinate) values and automatically generates the x (abscissa) values for you. The x values will be the indices of the y values, starting from 0.\n",
        "\n",
        "- Plot a curve using the list [1,3,2,4].\n"
      ],
      "metadata": {
        "id": "zQa5hSMUnx0W"
      }
    },
    {
      "cell_type": "code",
      "source": [
        "## Insert your code here"
      ],
      "metadata": {
        "id": "RUGi3wyhn0SO"
      },
      "execution_count": null,
      "outputs": []
    },
    {
      "cell_type": "markdown",
      "source": [
        "**Adding Titles and Axis Labels**\n",
        "\n",
        "> To add a title to the graphs, we use the title method.\n",
        "> To add labels to the axes, we use the xlabel and ylabel methods.\n",
        "\n",
        "- Plot a curve passing through the following points: (50,1), (100,3), (200,4).\n",
        "- Title the figure 'My First Curve'.\n",
        "- Label the x-axis as 'abscissa' and the y-axis as 'ordinates'."
      ],
      "metadata": {
        "id": "S1_8dgLzn7YI"
      }
    },
    {
      "cell_type": "code",
      "source": [
        "## Insert your code here"
      ],
      "metadata": {
        "id": "dzYfTrMSoLmk"
      },
      "execution_count": null,
      "outputs": []
    },
    {
      "cell_type": "markdown",
      "source": [
        "> The plot() function simply connects points in the order they are provided. It's possible to provide multiple points with the same x-coordinate to draw a specific shape.\n",
        "\n",
        "- Create the following x and y lists: x = [0, 1, 1, 0, 0] , y = [0, 0, 1, 1, 0].<br>\n",
        "Use the plot function to connect these points and set the limits of both axes from -1 to 2."
      ],
      "metadata": {
        "id": "CNe6lmAwwQnZ"
      }
    },
    {
      "cell_type": "code",
      "source": [
        "## Insert your code here"
      ],
      "metadata": {
        "id": "zudNay1CwVNf"
      },
      "execution_count": null,
      "outputs": []
    },
    {
      "cell_type": "markdown",
      "source": [
        "Similarly, one can plot a parametric curve using a sequence **t**. For this, provide the `plot` method with one function of **t** for the x-coordinates and another for the y-coordinates.\n",
        "\n",
        "- Use the **linspace** method from *Numpy* to create a sequence of 100 numbers between 0 and \\(2\\pi\\).\n",
        "- Plot the parametric curve defined by $$ f(t) = (\\sin(2t), \\sin(3t)), t \\in [0, 2\\pi].$$\n"
      ],
      "metadata": {
        "id": "kQeFZI8rwdHU"
      }
    },
    {
      "cell_type": "code",
      "source": [
        "## Insert your code here"
      ],
      "metadata": {
        "id": "L9LVw7i2w6sE"
      },
      "execution_count": null,
      "outputs": []
    },
    {
      "cell_type": "markdown",
      "source": [
        "**Exercise: Simulating Asset Paths using Geometric Brownian Motion**\n",
        "\n",
        "**Goal:** Create a simulation of potential future stock prices using the Geometric Brownian Motion (GBM) model and visualize the results.\n",
        "\n",
        "**Import Required Libraries**\n",
        "- Import numpy and matplotlib.pyplot\n",
        "\n",
        "**Define GBM Parameters**\n",
        "- $S_0$: Initial stock price\n",
        "- $T$: Time horizon (in years)\n",
        "- $r$: Risk-free rate (annualized)\n",
        "- $sigma$: Volatility (annualized)\n",
        "- $dt$: Time increment, e.g., a day\n",
        "- $n$: Number of time steps\n",
        "- $m$: Number of potential paths to simulate\n",
        "\n",
        "**Simulate GBM Paths**\n",
        "\n",
        "We recall that GBM is defined as\n",
        "$$ dS_t = \\mu S_t dt + \\sigma S_t dW_t $$\n",
        "\n",
        "Where:\n",
        "- $S_t$: Stock price at time $t$.\n",
        "- $\\mu$: Expected return or the drift, which is typically the risk-free rate.\n",
        "- $\\sigma$: Volatility of the stock.\n",
        "- $dW_t$: Wiener process or Brownian motion.\n",
        "\n",
        "For discrete time intervals, the formula to simulate the stock price $S_{t+1}$  given a stock price $S_t$ is:\n",
        "\n",
        "$$ S_{t+1} = S_t  \\exp \\left( (\\mu - \\frac{\\sigma^2}{2}) \\Delta t + \\sigma \\sqrt{\\Delta t} Z \\right) $$\n",
        "\n",
        "Where:\n",
        "- $ \\Delta t$: Size of the time step.\n",
        "- $Z$: A random draw from a standard normal distribution.\n",
        "\n",
        "**Visualize the Simulated Paths**\n",
        "\n",
        "\n"
      ],
      "metadata": {
        "id": "y476BsZZ05E_"
      }
    },
    {
      "cell_type": "code",
      "source": [
        "## Insert your code here"
      ],
      "metadata": {
        "id": "fLc3dNfu2z0I"
      },
      "execution_count": null,
      "outputs": []
    },
    {
      "cell_type": "markdown",
      "source": [
        "## Matplotlib Exercises\n",
        "\n",
        "### 1. Basic Line Plot\n",
        "- Generate a sequence of numbers from -10 to 10.\n",
        "- Plot their square values on a graph. Label the x-axis as \"Numbers\" and the y-axis as \"Squares\" and give the plot a title.\n",
        "\n",
        "### 2. Multiple Line Plots\n",
        "- Using the same sequence from the previous exercise, plot both the square and cube values on the same graph. Use different colors and line styles for each plot and add a legend to distinguish between them.\n",
        "\n",
        "### 3. Scatter Plot\n",
        "- Generate 50 random numbers for x-values and y-values.\n",
        "- Plot them using a scatter plot. Experiment with changing the size, color, and marker style.\n",
        "\n",
        "### 4. Histogram\n",
        "- Generate 1000 random numbers following a normal distribution using `numpy`.\n",
        "- Plot a histogram to visualize the distribution. Play around with the number of bins.\n",
        "\n",
        "### 5. Bar Chart\n",
        "- Take a list of fruits: `['Apple', 'Banana', 'Cherry', 'Date', 'Elderberry']`.\n",
        "- Assume some random sale values for each fruit and plot a bar chart to visualize fruit sales.\n",
        "\n",
        "### 6. Pie Chart\n",
        "- Using the fruit sales data from the previous exercise, plot a pie chart to show the proportion of sales by fruit. Ensure each section of the pie chart is labeled and displays a percentage.\n",
        "\n",
        "### 7. Subplots\n",
        "- Create four subplots in a 2x2 grid.\n",
        "  - In the top-left, plot a sine curve.\n",
        "  - In the top-right, plot a cosine curve.\n",
        "  - In the bottom-left, plot a tangent curve.\n",
        "  - In the bottom-right, plot a circle.\n",
        "- Ensure each subplot has a title.\n",
        "\n",
        "### 8. 3D Plotting\n",
        "- Create a 3D surface plot. You can use the `numpy` meshgrid function to generate x, y, and z values. For instance, plot the surface \\( z = x^2 + y^2 \\).\n",
        "\n",
        "### 9. Animation\n",
        "- Create an animation of a sine wave whose frequency increases over time.\n",
        "\n",
        "### 10. Customization\n",
        "- Choose any of the previous exercises and experiment with the aesthetics. Change colors, fonts, line styles, marker styles, etc. Also, explore how to add text annotations, grid lines, and other custom elements.\n",
        "\n"
      ],
      "metadata": {
        "id": "7muY4j0PxT29"
      }
    },
    {
      "cell_type": "code",
      "source": [],
      "metadata": {
        "id": "QlgkPiyYxWg6"
      },
      "execution_count": null,
      "outputs": []
    },
    {
      "cell_type": "markdown",
      "source": [
        "# Introduction to yfinance\n",
        "\n",
        "### What is yfinance?\n",
        "\n",
        "`yfinance` stands for Yahoo Finance, and the `yfinance` library in Python allows you to access financial data from Yahoo! Finance. This can include stock prices, historical data, financial statements, and much more.\n",
        "\n",
        "### Why use `yfinance`?\n",
        "\n",
        "If you're interested in financial analysis, algorithmic trading, or just want to understand how the stock market behaves over time, `yfinance` is a great tool to start with. With just a few lines of Python code, you can retrieve vast amounts of financial data.\n",
        "\n",
        "### Getting Started\n",
        "\n",
        "Start by importing the library:\n",
        "```\n",
        "import yfinance as yf\n",
        "```\n",
        "Fetching Data:\n",
        "\n",
        "You can fetch data for a specific stock or index. Here's how to get the historical data for Apple Inc. (AAPL) for the past month:\n",
        "```\n",
        "data = yf.download(\"AAPL\", period=\"1mo\")\n",
        "print(data)\n",
        "```\n",
        "\n",
        "- Fetch the data for AAPL\n",
        "- Using matplotlib.pyplot, plot the closing prices\n",
        "\n"
      ],
      "metadata": {
        "id": "7ZOC-JWDzRYC"
      }
    },
    {
      "cell_type": "code",
      "source": [
        "## Insert your code here"
      ],
      "metadata": {
        "id": "S5UhzfJEz4Ya"
      },
      "execution_count": null,
      "outputs": []
    },
    {
      "cell_type": "markdown",
      "source": [
        "**Exercise: Analyzing Historical Stock Prices**\n",
        "> Context:\n",
        "You are a financial analyst at an investment firm. You have been given a dataset containing historical stock prices of several companies over the past decade. Your task is to clean, analyze, and visualize the data to help the firm make informed investment decisions.\n",
        "\n",
        "> Dataset:\n",
        "The dataset contains the following columns: 'Date', 'Ticker', 'Open', 'High', 'Low', 'Close', 'Volume'.\n",
        "\n",
        "\n",
        "**Data Loading and Inspection**:\n",
        "\n",
        "- Fetch the data for 'AAPL', 'MSFT' and 'GOOGL' in a same dataframe\n",
        "- Display the first 10 rows of the dataset.\n",
        "- Check for any missing values in the dataset.\n",
        "\n",
        "**Data Cleaning**:\n",
        "\n",
        "- Handle any missing values by either filling them with appropriate values or dropping them.\n",
        "- Ensure the 'Date' column is in datetime format.\n",
        "\n",
        "**Data Transformation**:\n",
        "\n",
        "- Set the 'Date' column as the index of the DataFrame.\n",
        "Create a new column 'Price_Average' which is the average of 'High' and 'Low' prices for the day.\n",
        "\n",
        "**Data Analysis**:\n",
        "\n",
        "- Find the date and company with the highest trading volume.\n",
        "- Calculate the monthly average closing price for each company.\n",
        "- Determine the company with the highest price variance (i.e., difference between High and Low prices) over the period.\n",
        "\n",
        "**Data Aggregation**:\n",
        "\n",
        "- Group the data by 'Ticker' and calculate the total trading volume and average closing price for each company over the period.\n",
        "\n",
        "**Statistical Analysis**:\n",
        "\n",
        "- Calculate the correlation between the daily closing prices of different companies.\n",
        "- Determine the company with the highest and lowest volatility based on the standard deviation of closing prices.\n",
        "\n",
        "**File I/O**:\n",
        "\n",
        "- Save the cleaned and transformed dataset to a new CSV file.\n",
        "- Save the plots as image files.\n",
        "\n",
        "**Bonus**:\n",
        "\n",
        "- Perform a simple linear regression analysis to predict future prices based on historical prices.\n",
        "- Create a simple moving average trading strategy and backtest it on one of the companies."
      ],
      "metadata": {
        "id": "MVHsa6z60TeQ"
      }
    },
    {
      "cell_type": "code",
      "source": [
        "## Insert your code here"
      ],
      "metadata": {
        "id": "khJ2Ua0Q0heG"
      },
      "execution_count": null,
      "outputs": []
    },
    {
      "cell_type": "markdown",
      "source": [
        "**Exercice: Momentum Strategy on 50 Stocks**\n",
        "\n",
        "## Objective\n",
        "Explore the performance of a simple momentum strategy on a subset of 50 stocks.\n",
        "\n",
        "## Procedure\n",
        "\n",
        "### 1. Stock Selection (Hard Question)\n",
        "- Use `pandas` to fetch the list of all tickers from https://en.wikipedia.org/wiki/List_of_S%26P_500_companies\n",
        "- Randomly select 50 stocks from this list.\n",
        "\n",
        "### 2. Data Collection\n",
        "- For each stock, download the daily adjusted closing prices for the last 365 days.\n",
        "- Store this data in a pandas DataFrame with dates as the index.\n",
        "\n",
        "### 3. Momentum Calculation\n",
        "- Define momentum as the percentage change in the stock price over the previous n days (e.g., n=20 for a month).\n",
        "- Using pandas, compute the momentum for each stock for each day.\n",
        "- Rank the stocks based on their momentum every day.\n",
        "\n",
        "### 4. Strategy\n",
        "- At the beginning of each month, buy the top 10 stocks based on momentum from the previous month.\n",
        "- At the end of the month, sell all the stocks.\n",
        "- Repeat this process for each month in your dataset.\n",
        "\n",
        "### 5. Performance Analysis\n",
        "- Calculate the monthly and annualized return of this strategy.\n",
        "- Compare the strategy's performance against a benchmark (e.g., S&P 500).\n",
        "- Plot the cumulative returns of your strategy and the benchmark.\n",
        "\n",
        "### 6. Risk Analysis\n",
        "- Using numpy, compute the standard deviation of the monthly returns to get a measure of the strategy's risk.\n",
        "- Calculate the Sharpe Ratio.\n",
        "\n",
        "## Hints\n",
        "- To get the data of a stock using yfinance:\n",
        "  ```python\n",
        "  import yfinance as yf\n",
        "  data = yf.download(\"AAPL\", start=\"2022-01-01\", end=\"2023-01-01\")\n",
        "  ```\n",
        "- To compute momentum:\n",
        "  ```python\n",
        "n = 20\n",
        "momentum = data['Adj Close'].pct_change(n)\n",
        "    ```\n",
        "- To rank stocks based on momentum:\n",
        "  ```python\n",
        "ranked_stocks = momentum.sort_values(ascending=False)\n",
        "```\n"
      ],
      "metadata": {
        "id": "sGiyABYwxY5L"
      }
    },
    {
      "cell_type": "code",
      "source": [
        "## Insert your code here"
      ],
      "metadata": {
        "id": "jUBK1J7myTzJ"
      },
      "execution_count": null,
      "outputs": []
    }
  ]
}