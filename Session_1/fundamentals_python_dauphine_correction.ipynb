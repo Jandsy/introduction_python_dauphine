{
  "nbformat": 4,
  "nbformat_minor": 0,
  "metadata": {
    "colab": {
      "provenance": []
    },
    "kernelspec": {
      "name": "python3",
      "display_name": "Python 3"
    },
    "language_info": {
      "name": "python"
    }
  },
  "cells": [
    {
      "cell_type": "markdown",
      "source": [
        "<img src=\"https://dauphine.psl.eu/fileadmin/_processed_/9/2/csm_damier_logo_Dauphine_f7b37a1ff2.jpg\" width=\"200\" style=\"vertical-align:middle\" /> <h1>Master 222: Introduction to Python </h1>\n",
        "\n",
        "\n",
        "\n",
        "\n"
      ],
      "metadata": {
        "id": "xe6QeItHXBTV"
      }
    },
    {
      "cell_type": "markdown",
      "source": [
        "[![Open In Colab](https://colab.research.google.com/assets/colab-badge.svg)](https://colab.research.google.com/github/jandsy/introduction_python_dauphine/blob/main/Session_1/fundamentals_python_dauphine.ipynb)\n"
      ],
      "metadata": {
        "id": "oJRWMLS_hbac"
      }
    },
    {
      "cell_type": "markdown",
      "source": [
        "# 0- `print` Function in Python\n",
        "> In Python, the `print` function is one of the most basic and frequently used built-in functions. Its primary purpose is to display information to the console.\n",
        "\n",
        "### Basic Usage\n",
        "\n",
        "To print a simple message or variable's value, you can use the `print` function like this:\n",
        "```\n",
        "print(\"Hello, World!\")\n",
        "```\n",
        "\n",
        "**Printing Multiple Items**\n",
        " You can print multiple items in a single call by separating them with commas:\n",
        "```\n",
        "name = \"Alice\"\n",
        "print(\"Hello,\", name, \"!\") # This will output: Hello, Alice !\n",
        "\n",
        "```\n",
        "\n",
        "**String Formatting**\n",
        "Python provides several methods to format strings for display:\n",
        "\n",
        "\n",
        "\n",
        "1.   Using f-strings:\n",
        "```\n",
        "age = 30\n",
        "print(f\"Alice is {age} years old.\")\n",
        "```\n",
        "2.   Using the str.format() method:\n",
        "```\n",
        "print(\"Alice is {} years old.\".format(age))\n",
        "```\n",
        "3. Using %-formatting:\n",
        "```\n",
        "print(\"Alice is %d years old.\" % age)\n",
        "```\n",
        "\n",
        "**End and Separator**\n",
        "\n",
        "The print function also offers parameters like end and sep to control the output:\n",
        "\n",
        "- end: Specifies what to print at the end.\n",
        "- sep: Specifies how to separate multiple items.\n",
        "```\n",
        "print(\"Hello\", \"World\", sep=\"-\", end=\"!\") # This will output: Hello-World!\n",
        "```\n",
        "\n",
        "\n"
      ],
      "metadata": {
        "id": "0JNN4n-o5A00"
      }
    },
    {
      "cell_type": "markdown",
      "source": [
        "- Use the `print` function to display the message \"Hello, Python learners!\" to the console.\n",
        "- Print the words \"Python\", \"is\", \"fun\" to the console, but use dashes (`-`) instead of spaces as separators between the words."
      ],
      "metadata": {
        "id": "qHd17_2U6x0W"
      }
    },
    {
      "cell_type": "code",
      "source": [
        "## Insert your code here\n",
        "print(\"Hello, Python learners!\")\n",
        "print(\"Python\", \"is\", \"fun\", sep=\"-\")"
      ],
      "metadata": {
        "id": "UX1lX1TJ6-Mj",
        "colab": {
          "base_uri": "https://localhost:8080/"
        },
        "outputId": "bae8a0c7-4fea-4b7d-fade-e314896916e3"
      },
      "execution_count": null,
      "outputs": [
        {
          "output_type": "stream",
          "name": "stdout",
          "text": [
            "Hello, Python learners!\n",
            "Python-is-fun\n"
          ]
        }
      ]
    },
    {
      "cell_type": "markdown",
      "source": [
        "# 1 - Basic Variable Manipulation\n",
        "> Let's delve into variable creation in Python.\n",
        "\n",
        "> When creating a variable in Python, the computer allocates a spot in the RAM. This spot holds the value of the created variable.\n",
        "\n",
        "> To establish a connection between a variable's name and its content, we use the symbol '='. The syntax is as follows:\n",
        "`variable_name = variable_value`. Commonly, we say we are assigning the variable_value to our variable variable_name, but in reality, Python associates a reference, an address to our variable_value with our `variable_name`. Thus, when you copy a variable, you are only copying the reference to that variable, making the copy operation faster. We will explore this concept further below.\n",
        "\n",
        ">- Create a variable called `my_variable`.\n",
        "> - Assign it the value 2.\n"
      ],
      "metadata": {
        "id": "0ZspWuL06Nk2"
      }
    },
    {
      "cell_type": "code",
      "source": [
        "## Insert your code here\n",
        "my_variable = 2"
      ],
      "metadata": {
        "id": "JaAvfkbP6XWs"
      },
      "execution_count": null,
      "outputs": []
    },
    {
      "cell_type": "markdown",
      "source": [
        ">- Create another variable called global.\n",
        ">- Assign it any value."
      ],
      "metadata": {
        "id": "aYIJEiRp6lWQ"
      }
    },
    {
      "cell_type": "code",
      "source": [
        "## Insert your code here\n",
        "global = 2"
      ],
      "metadata": {
        "id": "zYWn3GYR6pxT",
        "colab": {
          "base_uri": "https://localhost:8080/",
          "height": 143
        },
        "outputId": "3aed0279-200a-4fbc-8ec6-44e43577a8ed"
      },
      "execution_count": 1,
      "outputs": [
        {
          "output_type": "error",
          "ename": "SyntaxError",
          "evalue": "ignored",
          "traceback": [
            "\u001b[0;36m  File \u001b[0;32m\"<ipython-input-1-d7f47f91e7de>\"\u001b[0;36m, line \u001b[0;32m2\u001b[0m\n\u001b[0;31m    global = 2\u001b[0m\n\u001b[0m           ^\u001b[0m\n\u001b[0;31mSyntaxError\u001b[0m\u001b[0;31m:\u001b[0m invalid syntax\n"
          ]
        }
      ]
    },
    {
      "cell_type": "markdown",
      "source": [
        "> Python returns an invalid syntax error. Indeed, there are **reserved words ** in Python, and **global** is one of them. Similarly, it's impossible to start a variable's name with a number.\n",
        "\n",
        "<a href=\"https://fr.wikibooks.org/wiki/Programmation_Python/Tableau_des_mots_r%C3%A9serv%C3%A9s\"> For more information on **reserved words** </a>\n",
        "\n",
        "> To display the value of a variable, there are several methods. Here are two:\n",
        "\n",
        "> 1. Simply type and enter the variable name at the keyboard.\n",
        "> 2. Use the print() function.\n",
        "> `print(X)` will output the value of the variable X.\n",
        "\n",
        "\n",
        ">- Create a variable called `number`.\n",
        ">- Assign it the value 3.0.\n",
        ">- Display the value on the screen using the first method.\n",
        "\n"
      ],
      "metadata": {
        "id": "yIZpzqRH6qfa"
      }
    },
    {
      "cell_type": "code",
      "source": [
        "## Insert your code here\n",
        "number = 3.0\n",
        "number"
      ],
      "metadata": {
        "id": "LyIc1amQ6__1",
        "colab": {
          "base_uri": "https://localhost:8080/"
        },
        "outputId": "8081afe7-007e-41b7-b485-88152b32762f"
      },
      "execution_count": null,
      "outputs": [
        {
          "output_type": "execute_result",
          "data": {
            "text/plain": [
              "3.0"
            ]
          },
          "metadata": {},
          "execution_count": 14
        }
      ]
    },
    {
      "cell_type": "markdown",
      "source": [
        "> A variable is a piece of data stored by the computer in a specific location in the RAM. There are various types of variables in Python:\n",
        "<center>\n",
        "<table>\n",
        "  <tr>\n",
        "    <th>Type</th>\n",
        "    <th>Meaning</th>\n",
        "    <th>Example</th>\n",
        "  </tr>\n",
        "  <tr>\n",
        "    <td><i>int</i></td>\n",
        "    <td>Integer number</td>\n",
        "    <td>2</td>\n",
        "  </tr>\n",
        "  <tr>\n",
        "    <td><i>float</i></td>\n",
        "    <td>Floating-point number</td>\n",
        "    <td>3.0</td>\n",
        "  </tr>\n",
        "  <tr>\n",
        "    <td><i>complex</i></td>\n",
        "    <td>Complex number</td>\n",
        "    <td>2j</td>\n",
        "  </tr>\n",
        "  <tr>\n",
        "    <td><i>str</i></td>\n",
        "    <td>String</td>\n",
        "    <td>\"Dauphine\"</td>\n",
        "  </tr>\n",
        "  <tr>\n",
        "    <td><i>tuple</i></td>\n",
        "    <td>Fixed-length list</td>\n",
        "    <td>(1,2)</td>\n",
        "  </tr>\n",
        "  <tr>\n",
        "    <td><i>list</i></td>\n",
        "    <td>Variable-length list</td>\n",
        "    <td>[1,2]</td>\n",
        "  </tr>\n",
        "  <tr>\n",
        "    <td><i>dict</i></td>\n",
        "    <td>Dictionary</td>\n",
        "    <td>{0:'a',1:'b'}</td>\n",
        "  </tr>\n",
        "  <tr>\n",
        "    <td><i>bool</i></td>\n",
        "    <td>Boolean</td>\n",
        "    <td>True</td>\n",
        "  </tr>\n",
        "</table>\n",
        "</center>\n",
        "\n",
        "\n",
        "\n",
        "\n",
        "> To know the type of data in Python, use `type(X)` where `X` is the variable whose type you want to know.\n",
        "\n",
        "- Create four variables named `a`, `b`, `c`, and `d`.\n",
        "- Assign:\n",
        ">1. `a` the value 2\n",
        ">2. `b` the value 3.0\n",
        ">3. `c` the value \"Hello\"\n",
        ">4. `d` the value True"
      ],
      "metadata": {
        "id": "s746j5p5-D1V"
      }
    },
    {
      "cell_type": "code",
      "source": [
        "## Insert your code here\n",
        "a = 2\n",
        "b = 3.0\n",
        "c = \"Hello\"\n",
        "d = True"
      ],
      "metadata": {
        "id": "4IspMYgV-H6r"
      },
      "execution_count": null,
      "outputs": []
    },
    {
      "cell_type": "code",
      "source": [
        "type(a), type(b), type(c), type(d)"
      ],
      "metadata": {
        "colab": {
          "base_uri": "https://localhost:8080/"
        },
        "id": "x4MOF5uujVNy",
        "outputId": "1c338c48-1fc0-442e-beb1-db093f263417"
      },
      "execution_count": null,
      "outputs": [
        {
          "output_type": "execute_result",
          "data": {
            "text/plain": [
              "(int, float, str, bool)"
            ]
          },
          "metadata": {},
          "execution_count": 17
        }
      ]
    },
    {
      "cell_type": "markdown",
      "source": [
        "> To better grasp the concept of references in Python, we suggest the following exercise:\n",
        "\n",
        "- Create a variable `a` and assign it a list [1,2].\n",
        "- Create another variable `b` and assign it the value of `a`.\n",
        "- Add the element 3 to b by writing `b.append(3)` where 3 is the element you want to add to the list `b`.\n",
        "- Display `a`. What do you notice?"
      ],
      "metadata": {
        "id": "YUXhNkwy_ZEo"
      }
    },
    {
      "cell_type": "code",
      "source": [
        "## Insert your code here\n",
        "a = [1, 2]\n",
        "b = a\n",
        "b.append(3)\n",
        "print(a)"
      ],
      "metadata": {
        "id": "7qGlfNcU_m6D",
        "colab": {
          "base_uri": "https://localhost:8080/"
        },
        "outputId": "d77fc2d8-d67a-47c9-9626-7dec93d98655"
      },
      "execution_count": null,
      "outputs": [
        {
          "output_type": "stream",
          "name": "stdout",
          "text": [
            "[1, 2, 3]\n"
          ]
        }
      ]
    },
    {
      "cell_type": "markdown",
      "source": [
        "> In reality, the references of `a` and `b` are the same since `a` and `b` are what we call mutable objects. We haven't covered objects, but understand that in Python, everything you manipulate is an object.\n",
        "\n",
        "> There are thus two types of objects: mutable (lists, dictionaries) and immutable (strings, int, complex, floats, tuples). Mutable objects are those that can be altered after creation. On the contrary, when you \"modify\" an immutable object, Python creates a new memory address for this new object.\n",
        "\n",
        "> The following exercise illuminates this principle.\n",
        "- Create a variable `a` and assign it the value 1.\n",
        "- Create a variable `b` and assign it the value of `a`.\n",
        "- Increment b by 1.\n",
        "- Display `a`."
      ],
      "metadata": {
        "id": "6WQEbYkxAHXK"
      }
    },
    {
      "cell_type": "code",
      "source": [
        "## Insert your code here\n",
        "a = 1\n",
        "b = a\n",
        "b = b+1\n",
        "print(a)"
      ],
      "metadata": {
        "id": "yEsKV7qcohb0",
        "colab": {
          "base_uri": "https://localhost:8080/"
        },
        "outputId": "48a72296-6391-40cf-ce8b-9fdc99aa3be6"
      },
      "execution_count": null,
      "outputs": [
        {
          "output_type": "stream",
          "name": "stdout",
          "text": [
            "1\n"
          ]
        }
      ]
    },
    {
      "cell_type": "markdown",
      "source": [
        "##  Lists in Python\n",
        "\n",
        "> Lists in Python are ordered collections of items which can be of any type. Lists are very flexible and can be modified after they have been created. A list is created by placing all the items (elements) inside square brackets `[]`, separated by commas.\n",
        "\n",
        "Here's a simple example:\n",
        "\n",
        "```\n",
        "my_list = [1, 2, 3, 4, 5]\n",
        "```\n",
        " **Accessing Elements**\n",
        "> Elements in a list can be accessed using an index, with the first element at index 0. For example:\n",
        "\n",
        "```\n",
        "first_element = my_list[0]  # This will be 1\n",
        "```\n",
        "\n",
        "**Modifying Lists**\n",
        "> Lists are mutable, meaning that you can change their content:\n",
        "```\n",
        "my_list[0] = 10  # Now, my_list is [10, 2, 3, 4, 5]\n",
        "```\n",
        "\n",
        "**Length of a List**\n",
        "\n",
        "> The length of a list can be obtained with the len() function:\n",
        "```\n",
        "list_length = len(my_list)  # This will be 5\n",
        "```\n",
        "\n",
        "**Adding Elements**\n",
        "> You can add elements to the end of a list using the append() method:\n",
        "```\n",
        "my_list.append(6)  # Now, my_list is [10, 2, 3, 4, 5, 6]\n",
        "```\n",
        "\n",
        "**Removing Elements**\n",
        "> You can remove elements from a list using the remove() method, or the pop() method which removes and returns the last item:\n",
        "\n",
        "```\n",
        "my_list.remove(2)  # Now, my_list is [10, 3, 4, 5, 6]\n",
        "last_item = my_list.pop()  # last_item is 6, my_list is [10, 3, 4, 5]\n",
        "```"
      ],
      "metadata": {
        "id": "6ePW9sTLinW9"
      }
    },
    {
      "cell_type": "markdown",
      "source": [
        "- Create a list named fruits containing the following items: apple, banana, cherry.\n",
        "- Print the second item in the fruits list.\n",
        "- Change the value of the second item of the fruits list to blackberry.\n",
        "- Add orange to the end of the fruits list.\n",
        "- Remove apple from the fruits list.\n"
      ],
      "metadata": {
        "id": "GORxJmQaol71"
      }
    },
    {
      "cell_type": "code",
      "source": [
        "## Insert your code here\n",
        "fruits = ['apple', 'banana','cherry']\n",
        "print(fruits[1])"
      ],
      "metadata": {
        "id": "l6Nm9l6LimvM",
        "colab": {
          "base_uri": "https://localhost:8080/"
        },
        "outputId": "3b7fd74e-f9d3-43af-bc37-44486813fbca"
      },
      "execution_count": null,
      "outputs": [
        {
          "output_type": "stream",
          "name": "stdout",
          "text": [
            "banana\n"
          ]
        }
      ]
    },
    {
      "cell_type": "code",
      "source": [
        "fruits[1] = 'blackberry'\n",
        "print(fruits)"
      ],
      "metadata": {
        "colab": {
          "base_uri": "https://localhost:8080/"
        },
        "id": "TuIkOlLpl8NI",
        "outputId": "9a0de823-3877-4fa0-9a9b-32d04c72c44a"
      },
      "execution_count": null,
      "outputs": [
        {
          "output_type": "stream",
          "name": "stdout",
          "text": [
            "['apple', 'blackberry', 'cherry']\n"
          ]
        }
      ]
    },
    {
      "cell_type": "code",
      "source": [
        "fruits.append('orange')\n",
        "print(fruits)"
      ],
      "metadata": {
        "colab": {
          "base_uri": "https://localhost:8080/"
        },
        "id": "Wwd1FcxVmCJ3",
        "outputId": "5e110392-6cc7-4921-f7bb-c2cfd6b054a3"
      },
      "execution_count": null,
      "outputs": [
        {
          "output_type": "stream",
          "name": "stdout",
          "text": [
            "['apple', 'blackberry', 'cherry', 'orange']\n"
          ]
        }
      ]
    },
    {
      "cell_type": "code",
      "source": [
        "fruits.remove('apple')"
      ],
      "metadata": {
        "id": "qnm0FaeJmJRN"
      },
      "execution_count": null,
      "outputs": []
    },
    {
      "cell_type": "code",
      "source": [
        "print(fruits)"
      ],
      "metadata": {
        "colab": {
          "base_uri": "https://localhost:8080/"
        },
        "id": "PRjpwGldmLKI",
        "outputId": "044c2632-a8b9-4905-c551-98d4ffb6c1a5"
      },
      "execution_count": null,
      "outputs": [
        {
          "output_type": "stream",
          "name": "stdout",
          "text": [
            "['blackberry', 'cherry', 'orange']\n"
          ]
        }
      ]
    },
    {
      "cell_type": "markdown",
      "source": [
        "#2- Dictionary in Python\n",
        "\n",
        "Dictionaries in Python are a collection of key-value pairs, where each key must be unique. They are mutable and unordered. Dictionaries are defined by enclosing a comma-separated sequence of key-value pairs in curly braces `{}`, with a colon `:` separating the keys and values.\n",
        "\n",
        "```\n",
        "my_dict = {\n",
        "    'key1': 'value1',\n",
        "    'key2': 'value2',\n",
        "    'key3': 'value3',\n",
        "}\n",
        "```\n",
        "\n",
        "**Accessing Elements**\n",
        "> To access the value associated with a particular key, you can use square brackets enclosing their key.\n",
        "```\n",
        "print(my_dict['key1'])  # Output: value1\n",
        "```\n",
        "\n",
        "**Adding and Updating Elements**\n",
        "\n",
        "> You can add new key-value pairs or update the value of an existing key.\n",
        "```\n",
        "my_dict['key4'] = 'value4'  # Adds a new key-value pair\n",
        "my_dict['key1'] = 'new_value1'  # Updates the value of an existing key\n",
        "```\n",
        "\n",
        "\n",
        "**Removing Elements**\n",
        "\n",
        "> You can remove a particular key-value pair with the pop method, or remove all entries with the clear method.\n",
        "```\n",
        "my_dict.pop('key2')  # Removes the key-value pair with key 'key2'\n",
        "my_dict.clear()  # Removes all key-value pairs\n",
        "```"
      ],
      "metadata": {
        "id": "vpAh6NH0pe1Q"
      }
    },
    {
      "cell_type": "markdown",
      "source": [
        "- Create a dictionary student with keys 'name', 'age', and 'course', and assign some values to these keys.\n",
        "- Print the value associated with the key 'name'."
      ],
      "metadata": {
        "id": "boy2mySJorex"
      }
    },
    {
      "cell_type": "code",
      "source": [
        "## Insert your code here\n",
        "student = {'name':'Florent', 'age':22, 'course': 'python'}\n",
        "print(student['name'])"
      ],
      "metadata": {
        "id": "lkCh0UGnAfi7",
        "colab": {
          "base_uri": "https://localhost:8080/"
        },
        "outputId": "e98750c9-0186-400a-87ad-6222c7e539d4"
      },
      "execution_count": null,
      "outputs": [
        {
          "output_type": "stream",
          "name": "stdout",
          "text": [
            "Florent\n"
          ]
        }
      ]
    },
    {
      "cell_type": "markdown",
      "source": [
        "- Update the age in the student dictionary to 26.\n",
        "- Add a new key-value pair 'grade' with a value 'A' to the student dictionary.\n",
        "- Print the updated dictionary.\n"
      ],
      "metadata": {
        "id": "s_y4mDP5q6Ne"
      }
    },
    {
      "cell_type": "code",
      "source": [
        "## Insert your code here\n",
        "student['age'] = 26\n",
        "student['grade'] = 'A'\n",
        "print(student)"
      ],
      "metadata": {
        "id": "ZmMPEaKMrQTR",
        "colab": {
          "base_uri": "https://localhost:8080/"
        },
        "outputId": "359ac0f0-96ac-4daa-f14c-2bc651265bdc"
      },
      "execution_count": null,
      "outputs": [
        {
          "output_type": "stream",
          "name": "stdout",
          "text": [
            "{'name': 'Florent', 'age': 26, 'course': 'python', 'grade': 'A'}\n"
          ]
        }
      ]
    },
    {
      "cell_type": "markdown",
      "source": [
        "- Remove the key-value pair 'course' from the student dictionary using the pop method.\n",
        "- Print the updated dictionary.\n"
      ],
      "metadata": {
        "id": "bMR7CQO5rQx_"
      }
    },
    {
      "cell_type": "code",
      "source": [
        "## Insert your code here\n",
        "student.pop('course')\n",
        "print(student)"
      ],
      "metadata": {
        "id": "BkN7X6VvrWLj",
        "colab": {
          "base_uri": "https://localhost:8080/"
        },
        "outputId": "ee331614-7652-481d-e23a-9835945f1b1b"
      },
      "execution_count": null,
      "outputs": [
        {
          "output_type": "stream",
          "name": "stdout",
          "text": [
            "{'name': 'Florent', 'age': 26, 'grade': 'A'}\n"
          ]
        }
      ]
    },
    {
      "cell_type": "markdown",
      "source": [
        "> Now we are going to look at the different operators in Python. The following table summarizes the different mathematical operators.\n",
        "\n",
        "<center>\n",
        "\n",
        "| Symbol | Effect                | Example         |\n",
        "|--------|-----------------------|-----------------|\n",
        "| +      | Addition              | 6 + 4 returns 10|\n",
        "| -      | Subtraction           | 6 - 4 returns 2  |\n",
        "| *      | Multiplication        | 6 * 4 returns 24 |\n",
        "| /      | Real Division         | 6 / 4 returns 1.5|\n",
        "| **     | Exponentiation        | 12 ** 2 returns 144 |\n",
        "| //     | Integer Division      | 6 // 4 returns 1 |\n",
        "| %      | Remainder of Division | 6 % 4 returns 2  |\n",
        "\n",
        "</center>\n",
        "\n",
        "- Define a variable `age`.\n",
        "- Assign the value 35 to `age`.\n",
        "- Display the number of days associated with the age using a mathematical operator. Assume that a year has 365 days."
      ],
      "metadata": {
        "id": "N5Vhg3lZCVMD"
      }
    },
    {
      "cell_type": "code",
      "source": [
        "## Insert your code here\n",
        "age = 35\n",
        "print(35*365)"
      ],
      "metadata": {
        "id": "NAQSg8iGCvGY",
        "colab": {
          "base_uri": "https://localhost:8080/"
        },
        "outputId": "555ece77-524a-4b40-ec0b-5c869788846c"
      },
      "execution_count": null,
      "outputs": [
        {
          "output_type": "stream",
          "name": "stdout",
          "text": [
            "12775\n"
          ]
        }
      ]
    },
    {
      "cell_type": "markdown",
      "source": [
        "- Define a new variable `day`.\n",
        "- Assign to day a number of days greater than 10,000.\n",
        "- Display the corresponding number of years using a mathematical operator. Assume that a year has 365 days."
      ],
      "metadata": {
        "id": "bk1T1xd6HoUi"
      }
    },
    {
      "cell_type": "code",
      "source": [
        "## Insert your code here\n",
        "day = 10001\n",
        "print(day/365)"
      ],
      "metadata": {
        "id": "Ap45rp5yHsgM",
        "colab": {
          "base_uri": "https://localhost:8080/"
        },
        "outputId": "478bbb01-73c3-4aae-81d0-1dfd3b09f5d6"
      },
      "execution_count": null,
      "outputs": [
        {
          "output_type": "stream",
          "name": "stdout",
          "text": [
            "27.4\n"
          ]
        }
      ]
    },
    {
      "cell_type": "markdown",
      "source": [
        "- Create the variables `distance` and `time`.\n",
        "- Assign the value 15 to `distance`.\n",
        "- Assign the value 14.4 to `time`.\n",
        "- Create a new variable `speed` and assign it the corresponding speed based on the previous two variables.\n",
        "- Display the variable `speed`, using the formula $speed = \\frac{distance}{time} $\n"
      ],
      "metadata": {
        "id": "Zj_05JYoIkPH"
      }
    },
    {
      "cell_type": "code",
      "source": [
        "## Insert your code here\n",
        "distance = 15\n",
        "time = 14.4\n",
        "speed = distance/time\n",
        "print(speed)"
      ],
      "metadata": {
        "id": "qvHWSul4Ik4P",
        "colab": {
          "base_uri": "https://localhost:8080/"
        },
        "outputId": "b5f1ad99-9bed-4931-9eb0-76d72b21a57b"
      },
      "execution_count": null,
      "outputs": [
        {
          "output_type": "stream",
          "name": "stdout",
          "text": [
            "1.0416666666666667\n"
          ]
        }
      ]
    },
    {
      "cell_type": "markdown",
      "source": [
        "There are two other types of operators in Python that return Boolean values (True or False): logical operators and comparison operators.   \n",
        "\n",
        "Here's a table summarizing the logical operators:\n",
        "<center>\n",
        "\n",
        "| Expression | Meaning |\n",
        "|------------|---------|\n",
        "| X or Y     | Logical OR. If either X or Y is True, the expression is True. If neither is True, the expression is False. |\n",
        "| X and Y    | Logical AND. If both X and Y are True, the expression is True. Otherwise, the expression is False. |\n",
        "| not X      | Logical NOT. Opposite of X. If X is True, it returns False. If X is False, it returns True. |\n",
        "\n",
        "</center>\n",
        "\n",
        "\n",
        "- Create two variables `x` and `y`.\n",
        "- Assign `True` to `x` and `False` to `y`.\n",
        "- Create a new variable `z_false`.\n",
        "- Using a logical operator with `x` and `y`, assign the value `False` to `z_false`.\n",
        "- Create a new variable `z_true`.\n",
        "- Using a logical operator with `x` and `y`, assign the value `True` to `z_true`.\n",
        "- Display `z_false`.\n",
        "- Display `z_true`."
      ],
      "metadata": {
        "id": "svglsuHqMJ70"
      }
    },
    {
      "cell_type": "code",
      "source": [
        "## Insert your code here\n",
        "x = True\n",
        "y = False\n",
        "z_false = x and y # x and y\n",
        "print('z_false is', z_false)\n",
        "z_true = x or y # x or y\n",
        "print('z_true is', z_true)"
      ],
      "metadata": {
        "id": "kcu4mBFxM5nD",
        "colab": {
          "base_uri": "https://localhost:8080/"
        },
        "outputId": "ed16779b-1681-479f-d619-ceb077d2e9e3"
      },
      "execution_count": null,
      "outputs": [
        {
          "output_type": "stream",
          "name": "stdout",
          "text": [
            "z_false is False\n",
            "z_true is True\n"
          ]
        }
      ]
    },
    {
      "cell_type": "markdown",
      "source": [
        "Now we turn our attention to the last type of operators: comparison operators.\n",
        "\n",
        "Below is a table summarizing the comparison operators:\n",
        "<center>\n",
        "\n",
        "| Expression | Meaning            |\n",
        "|------------|--------------------|\n",
        "| <          | Strictly less than |\n",
        "| >          | Strictly greater than |\n",
        "| <=         | Less than or equal to |\n",
        "| >=         | Greater than or equal to |\n",
        "| ==         | Equality            |\n",
        "| !=         | Inequality          |\n",
        "\n",
        "</center>\n",
        "\n",
        "- Create two variables `x` and `y`.\n",
        "- Assign a float `2.0` to `x` and an int `2` to `y`.\n",
        "- Return `True` in three different ways using only comparison operators."
      ],
      "metadata": {
        "id": "eh20CxaFNqVk"
      }
    },
    {
      "cell_type": "code",
      "source": [
        "## Insert your code here\n",
        "x = 2.0\n",
        "y = 2\n",
        "\n",
        "print(x == y)\n",
        "print(x >=y)\n",
        "print(x <=y)"
      ],
      "metadata": {
        "id": "Ew2LwExTNq0G",
        "colab": {
          "base_uri": "https://localhost:8080/"
        },
        "outputId": "de52eba2-4dfc-47a3-cc89-26b1bcec644d"
      },
      "execution_count": null,
      "outputs": [
        {
          "output_type": "stream",
          "name": "stdout",
          "text": [
            "True\n",
            "True\n",
            "True\n"
          ]
        }
      ]
    },
    {
      "cell_type": "markdown",
      "source": [
        "> Conditionals are a fundamental concept in programming, allowing you to perform different actions based on certain conditions. In Python, the `if`, `elif` (else if), and `else` statements are used to control the flow of execution in a program based on the evaluation of specified conditions.\n",
        "\n",
        "\n",
        "\n",
        "\n",
        "\n",
        "```\n",
        "if condition:\n",
        "    # code to execute if condition is True\n",
        "elif another_condition:\n",
        "    # code to execute if another_condition is True\n",
        "else:\n",
        "    # code to execute if no conditions are True```\n",
        "\n",
        "```\n",
        "\n",
        "### `if` Statement\n",
        "\n",
        ">The `if` statement evaluates a condition and executes the indented block of code only if the condition is true.\n",
        "\n",
        "\n",
        "\n",
        "```\n",
        "x = 10\n",
        "if x > 5:\n",
        "    print(\"x is greater than 5\")\n",
        "```\n",
        "\n",
        "### `elif` Statement\n",
        "\n",
        "> The `elif` (else if) statement allows you to check multiple conditions, executing its block of code if its condition is true and all previous conditions have been false.\n",
        "\n",
        "\n",
        "\n",
        "```\n",
        "x = 10\n",
        "if x > 15:\n",
        "    print(\"x is greater than 15\")\n",
        "elif x > 5:\n",
        "    print(\"x is greater than 5 but not greater than 15\")\n",
        "```\n",
        "\n",
        "### `else` Statement\n",
        "\n",
        "The `else` statement executes its block of code if no previous conditions have been true.\n",
        "\n",
        "\n",
        "\n",
        "```\n",
        "x = 10\n",
        "if x > 15:\n",
        "    print(\"x is greater than 15\")\n",
        "else:\n",
        "    print(\"x is not greater than 15\")\n",
        "```\n",
        "\n",
        "\n",
        "\n"
      ],
      "metadata": {
        "id": "vzsBXRQpXZTY"
      }
    },
    {
      "cell_type": "markdown",
      "source": [
        "- You are given the age variable.\n",
        "- Write a sequence of instructions that prints whether the person is a minor (under 18), an adult (18 to 64), or a senior (65 or older)."
      ],
      "metadata": {
        "id": "f_B0HxaRZt6K"
      }
    },
    {
      "cell_type": "code",
      "source": [
        "## Insert your code here\n",
        "age = 17\n",
        "if age < 18:\n",
        "  print('the person is a minor')\n",
        "elif age < 65:\n",
        "  print('the person is an adult')\n",
        "else:\n",
        "  print('the person is a senior')"
      ],
      "metadata": {
        "id": "vm0llnwyaKhf",
        "colab": {
          "base_uri": "https://localhost:8080/"
        },
        "outputId": "56a181d1-c269-4dc4-ae85-c38733a9902d"
      },
      "execution_count": null,
      "outputs": [
        {
          "output_type": "stream",
          "name": "stdout",
          "text": [
            "the person is a minor\n"
          ]
        }
      ]
    },
    {
      "cell_type": "markdown",
      "source": [
        "- You are given the variable number.\n",
        "- Write a sequence of instruction that checks whether the number is positive, negative, or zero and prints the result."
      ],
      "metadata": {
        "id": "2hcF0xxzaK-D"
      }
    },
    {
      "cell_type": "code",
      "source": [
        "## Insert your code here\n",
        "number = -5\n",
        "if number == 0:\n",
        "  print('the number is zero')\n",
        "elif number > 0:\n",
        "  print('the number is positive')\n",
        "else:\n",
        "  print('the number is negative')\n"
      ],
      "metadata": {
        "id": "U-jbrvQGaN62",
        "colab": {
          "base_uri": "https://localhost:8080/"
        },
        "outputId": "9ad4e2eb-db07-44a1-976c-594d72c33e1c"
      },
      "execution_count": null,
      "outputs": [
        {
          "output_type": "stream",
          "name": "stdout",
          "text": [
            "the number is negative\n"
          ]
        }
      ]
    },
    {
      "cell_type": "markdown",
      "source": [
        "## To go further..\n",
        "### Exercise 1: Mathematical Operators\n",
        "- Define a variable `radius` with a value of `7`.\n",
        "- Calculate the area of a circle using the formula \\( Area = \\pi r^2 \\) (you can use `3.1415` for \\(\\pi\\)) and store the result in a variable called `area`.\n",
        "- Display the `area` variable.\n",
        "\n",
        "### Exercise 2: Logical Operators\n",
        "- Create two variables `p` and `q`.\n",
        "- Assign `True` to `p` and `False` to `q`.\n",
        "- Create a new variable `r` and use a logical operator to assign it a value of `True` based on the values of `p` and `q`.\n",
        "- Create a new variable `s` and use a different logical operator to assign it a value of `False` based on the values of `p` and `q`.\n",
        "- Display `r` and `s`.\n",
        "\n",
        "### Exercise 3: Comparison Operators\n",
        "- Create two variables `a` with a value of `10` and `b` with a value of `20`.\n",
        "- Return `True` in three different ways using only comparison operators.\n",
        "\n",
        "### Exercise 4: Variable Types and Casting\n",
        "- Define four variables `m`, `n`, `o`, and `p`.\n",
        "- Assign the following values to them: `5`, `5.0`, `\"5\"`, and `True`, respectively.\n",
        "- Display the type of each variable using the `type()` function.\n",
        "- Cast variable `n` to integer, `o` to float, and `p` to string, and display the updated variable types.\n",
        "\n",
        "\n",
        "### Exercise 5: Understanding References in Python\n",
        "Understanding how references work in Python is crucial, especially when dealing with mutable and immutable objects. In this exercise, you will explore this concept through a practical example:\n",
        "\n",
        "- Create a variable `str_1` and assign the string value `\"hello\"` to it.\n",
        "- Now create another variable `str_2` and assign `str_1` to it.\n",
        "- Modify `str_2` by concatenating the string `\" world\"` to it (i.e., `str_2 = str_2 + \" world\"`).\n",
        "- Display both `str_1` and `str_2`.\n",
        "- Now create a variable `list_1` and assign a list containing two string elements: `[\"hello\", \"world\"]` to it.\n",
        "- Create another variable `list_2` and assign `list_1` to it.\n",
        "- Modify `list_2` by appending another string `\"!\"` to it (i.e., `list_2.append(\"!\")`).\n",
        "- Display both `list_1` and `list_2`.\n",
        "\n",
        "What do you notice about the behavior of string and list objects in Python when assigned to another variable and modified?"
      ],
      "metadata": {
        "id": "1SSRwKI0OFNp"
      }
    },
    {
      "cell_type": "code",
      "source": [
        "## Insert your code here"
      ],
      "metadata": {
        "id": "JSDAIIJoOVJa"
      },
      "execution_count": null,
      "outputs": []
    },
    {
      "cell_type": "markdown",
      "source": [
        "# 3- Loops and Function in Python\n",
        "\n",
        "### Introduction to Loops in Python\n",
        "\n",
        "Loops in programming allow for the repetition of a block of code as long as a specified condition is met. They are essential for performing repetitive tasks with minimal code. Python provides two main types of loops: `for` loops and `while` loops.\n",
        "\n",
        "#### For Loops\n",
        "A `for` loop in Python is used to iterate over a sequence (such as a list, tuple, or string) or other iterable objects.\n",
        "\n",
        "\n",
        "### Example of a for loop\n",
        "```\n",
        "for i in range(5):\n",
        "    print(i)\n",
        "```\n",
        "\n",
        "#### While Loops\n",
        "A `while` loop in Python is used to repeatedly execute a block of code as long as a condition is true.\n",
        "\n",
        "```\n",
        "# Example of a while loop\n",
        "count = 0\n",
        "while count < 5:\n",
        "    print(count)\n",
        "    count += 1\n",
        "```\n",
        "\n",
        "\n",
        "#### Loop Control Statements\n",
        "Loop control statements change the execution of a loop from its normal sequence. Python supports the following control statements:\n",
        "\n",
        "break: Terminates the loop and transfers execution to the statement immediately following the loop.\n",
        "continue: Causes the loop to skip the rest of its body and immediately retest its condition prior to reiterating.\n",
        "\n",
        "\n",
        "```\n",
        "# Example using break and continue\n",
        "for num in range(10):\n",
        "    if num == 5:\n",
        "        break  # Exit loop when num is 5\n",
        "    elif num == 3:\n",
        "        continue  # Skip iteration when num is 3\n",
        "    print(num)\n",
        "```\n",
        "\n",
        "\n",
        "\n",
        "\n",
        "\n",
        "\n"
      ],
      "metadata": {
        "id": "-fIzE1iIRH-W"
      }
    },
    {
      "cell_type": "markdown",
      "source": [
        "To recall, **a block in Python is defined by a certain level of indentation** (and begins after a line ending with \"**`:`**\").\n",
        "\n",
        "The expression represented by `condition` is _evaluated_ as a **boolean** variable (for example, if `condition` is a string, the test is evaluated as `True` if and only if the string is non-empty).\n",
        "\n",
        ">- Using your knowledge of the `print` function, define a `while` loop to display the multiplication table of the number 2 (factors 1 to 10):"
      ],
      "metadata": {
        "id": "maTmd3QwTEMS"
      }
    },
    {
      "cell_type": "code",
      "source": [
        "## Insert your code here\n",
        "i = 1\n",
        "while i<11:\n",
        "  print('{}*2 is equal to'.format(i), i* 2)\n",
        "  i = i +1\n"
      ],
      "metadata": {
        "id": "EkKwnJR3TFW7",
        "colab": {
          "base_uri": "https://localhost:8080/"
        },
        "outputId": "fb037d92-c562-40e7-a7b5-689d455fa7e9"
      },
      "execution_count": null,
      "outputs": [
        {
          "output_type": "stream",
          "name": "stdout",
          "text": [
            "1*2 is equal to 2\n",
            "2*2 is equal to 4\n",
            "3*2 is equal to 6\n",
            "4*2 is equal to 8\n",
            "5*2 is equal to 10\n",
            "6*2 is equal to 12\n",
            "7*2 is equal to 14\n",
            "8*2 is equal to 16\n",
            "9*2 is equal to 18\n",
            "10*2 is equal to 20\n"
          ]
        }
      ]
    },
    {
      "cell_type": "markdown",
      "source": [
        ">- As previously, display the multiplication table of 2, this time using a **`for`** loop.\n",
        "\n",
        "\n",
        "\n"
      ],
      "metadata": {
        "id": "XULCUswJTSpy"
      }
    },
    {
      "cell_type": "code",
      "source": [
        "for i in [0, 1, 2, 3, 4, 5, 6, 7, 8, 9, 10]:\n",
        "  print('{}*2 is equal to'.format(i), i* 2)\n",
        "  i = i +1"
      ],
      "metadata": {
        "id": "uYT-lDclTWlV",
        "colab": {
          "base_uri": "https://localhost:8080/"
        },
        "outputId": "3802264a-ba41-4537-f586-2c702764c90d"
      },
      "execution_count": null,
      "outputs": [
        {
          "output_type": "stream",
          "name": "stdout",
          "text": [
            "0*2 is equal to 0\n",
            "1*2 is equal to 2\n",
            "2*2 is equal to 4\n",
            "3*2 is equal to 6\n",
            "4*2 is equal to 8\n",
            "5*2 is equal to 10\n",
            "6*2 is equal to 12\n",
            "7*2 is equal to 14\n",
            "8*2 is equal to 16\n",
            "9*2 is equal to 18\n",
            "10*2 is equal to 20\n"
          ]
        }
      ]
    },
    {
      "cell_type": "code",
      "source": [
        "for i in range(10):\n",
        "  print('{}*2 is equal to'.format(i), i* 2)"
      ],
      "metadata": {
        "colab": {
          "base_uri": "https://localhost:8080/"
        },
        "id": "S7LuLZ-R1Ks0",
        "outputId": "7db76f4f-0ccd-44b9-fedd-00a8f99664bc"
      },
      "execution_count": null,
      "outputs": [
        {
          "output_type": "stream",
          "name": "stdout",
          "text": [
            "0*2 is equal to 0\n",
            "1*2 is equal to 2\n",
            "2*2 is equal to 4\n",
            "3*2 is equal to 6\n",
            "4*2 is equal to 8\n",
            "5*2 is equal to 10\n",
            "6*2 is equal to 12\n",
            "7*2 is equal to 14\n",
            "8*2 is equal to 16\n",
            "9*2 is equal to 18\n"
          ]
        }
      ]
    },
    {
      "cell_type": "markdown",
      "source": [
        "### Function in python\n",
        "\n",
        "Now that the loop structure has been introduced, we will present more advanced use cases.\n",
        "\n",
        "The example of the multiplication table may seem a bit simplistic to you. To make it more general, we will define a **function** that displays this multiplication table for any number (we keep the same factors from 1 to 10 for now).\n",
        "\n",
        "We remind you that the definition of a function in Python is done as follows:\n",
        "\n",
        "```\n",
        "def my_function(arg_1, arg_2):\n",
        "    instruction_1\n",
        "    ...\n",
        "    instruction_N\n",
        "    return something # if needed\n",
        "```\n",
        "\n",
        "- Define a function, called `simple_multiplication`, that takes a number n as an argument and displays the multiplication table as in previous questions:\n",
        "\n"
      ],
      "metadata": {
        "id": "juNJqDHWUj0x"
      }
    },
    {
      "cell_type": "code",
      "source": [
        "## Insert your code here\n",
        "def simple_multiplication(n):\n",
        "  for i in range(11):\n",
        "    print('{}*{} is equal to'.format(i, n), i* n)\n",
        "\n",
        "simple_multiplication(2)"
      ],
      "metadata": {
        "id": "Fo3g_l50U3_e",
        "colab": {
          "base_uri": "https://localhost:8080/"
        },
        "outputId": "9bf0f3fc-9e64-4188-92f9-5198b788b52e"
      },
      "execution_count": null,
      "outputs": [
        {
          "output_type": "stream",
          "name": "stdout",
          "text": [
            "0*2 is equal to 0\n",
            "1*2 is equal to 2\n",
            "2*2 is equal to 4\n",
            "3*2 is equal to 6\n",
            "4*2 is equal to 8\n",
            "5*2 is equal to 10\n",
            "6*2 is equal to 12\n",
            "7*2 is equal to 14\n",
            "8*2 is equal to 16\n",
            "9*2 is equal to 18\n",
            "10*2 is equal to 20\n"
          ]
        }
      ]
    },
    {
      "cell_type": "code",
      "source": [],
      "metadata": {
        "id": "HfDP-OyH5sEg"
      },
      "execution_count": null,
      "outputs": []
    },
    {
      "cell_type": "markdown",
      "source": [
        "## To go further..\n",
        "### Exercise 1: Sum of Natural Numbers\n",
        "- Write a Python program to find the sum of all natural numbers between 1 and a given number `n` using a `for` loop.\n",
        "\n",
        "### Exercise 2: Factorial Calculation\n",
        "- Write a Python program to calculate the factorial of a given number `n` using a `for` loop.\n",
        "\n",
        "### Exercise 3: Table of Squares\n",
        "- Write a Python program that displays the table of squares from 1 to a given number `n` using a `for` loop. Each line should be formatted as \"`i` squared is `i*i`\".\n",
        "\n",
        "### Exercise 4: Counting the Occurrences\n",
        "- Write a Python program to count the occurrences of a specific character in a given string using a `for` loop.\n",
        "\n",
        "### Exercise 5: Accumulating the Elements of a List\n",
        "- Write a Python program to find the cumulative sum of a list using a `for` loop.\n",
        "\n",
        "### Exercise 6: Reversing a List\n",
        "- Write a Python program to reverse the order of the elements in a list using a `for` loop.\n",
        "\n",
        "### Exercise 7: Odd-Even Count\n",
        "- Write a Python program to count the number of even and odd numbers from a series of numbers using a `for` loop.\n"
      ],
      "metadata": {
        "id": "HdhfU7AYT4Ic"
      }
    },
    {
      "cell_type": "code",
      "source": [
        "### Correction exercise 1\n",
        "def sum_natural_numbers(n):\n",
        "  sum = 0\n",
        "  for i in range(1, n+1):\n",
        "    sum += i\n",
        "  return sum\n",
        "\n",
        "  ### Correction exercise 2 - boucle version\n",
        "\n",
        "def factorial_with_boucle(n):\n",
        "  factorial = 1\n",
        "  for i in range(1, n+1):\n",
        "    factorial = factorial * i\n",
        "  return factorial\n",
        "\n",
        "def factorial(n):\n",
        "  if n==1:\n",
        "    return 1\n",
        "  else:\n",
        "    return n*factorial(n-1)"
      ],
      "metadata": {
        "id": "rv-clD9BUDZE"
      },
      "execution_count": null,
      "outputs": []
    }
  ]
}