{
  "nbformat": 4,
  "nbformat_minor": 0,
  "metadata": {
    "colab": {
      "provenance": []
    },
    "kernelspec": {
      "name": "python3",
      "display_name": "Python 3"
    },
    "language_info": {
      "name": "python"
    }
  },
  "cells": [
    {
      "cell_type": "markdown",
      "source": [
        "<img src=\"https://dauphine.psl.eu/fileadmin/_processed_/9/2/csm_damier_logo_Dauphine_f7b37a1ff2.jpg\" width=\"200\" style=\"vertical-align:middle\" /> <h1>Master 222: Introduction to Python </h1>\n",
        "\n",
        "\n",
        "\n"
      ],
      "metadata": {
        "id": "9UOkwPFBZUaR"
      }
    },
    {
      "cell_type": "markdown",
      "source": [
        "[![Open In Colab](https://colab.research.google.com/assets/colab-badge.svg)](https://colab.research.google.com/github/jandsy/introduction_python_dauphine/blob/main/Session_2/numpy_and_pandas_python_dauphine.ipynb)\n"
      ],
      "metadata": {
        "id": "Uc_gjE9_jgBg"
      }
    },
    {
      "cell_type": "markdown",
      "source": [
        "# Remainders: Last Session\n",
        "## Exercice Temperature Data Analysis\n",
        "**Introduction**\n",
        "You're provided with a list of temperatures (in degrees Celsius) spanning over a week:\n",
        "``` python\n",
        "temperatures = [20.5, 22.3, 19.8, 21.6, 23.2, 18.9, 20.2]\n",
        "```\n",
        "Your task is to analyze this data by developing specific functions and then interpreting the results.\n",
        "\n",
        "**Functions to Develop**\n",
        "\n",
        "\n",
        "\n",
        "1.   Function `average_temp()`:\n",
        "\n",
        "*Input:* A list of temperatures.\n",
        "\n",
        "*Task:* Calculate the average temperature for the week.\n",
        "\n",
        "*Return:* The average temperature.\n",
        "\n",
        "2. Function `hot_days_count()`:\n",
        "\n",
        "*Input:* A list of temperatures.\n",
        "\n",
        "*Task:* Determine the number of days the temperature was above 21°C.\n",
        "\n",
        "*Return:* The count of days.\n",
        "\n",
        "3. Function `coldest_day()`:\n",
        "\n",
        "*Input:* A list of temperatures.\n",
        "\n",
        "*Task:* Identify the index of the coldest day (0 for Monday, 6 for Sunday).\n",
        "\n",
        "*Return:* The index of the day.\n",
        "\n",
        "**Display the Results**\n",
        "\n",
        "After you've developed and tested your functions, you should:\n",
        "\n",
        "- Print the average temperature of the week.\n",
        "- Print the number of days when the temperature was above 21°C.\n",
        "- Print the coldest day of the week based on the index (e.g., \"The coldest day was Wednesday...\").\n",
        "\n",
        "**Sample output**\n",
        "``` python\n",
        "The average temperature for the week is: 20.79°C.\n",
        "There were 3 days with a temperature above 21°C.\n",
        "The coldest day was Wednesday with a temperature of 18.9°C.\n",
        "```\n"
      ],
      "metadata": {
        "id": "R5QIyWQ8QtZ1"
      }
    },
    {
      "cell_type": "code",
      "source": [
        "## Insert your code here\n",
        "\n",
        "def average_temp(list_temp):\n",
        "    n = len(list_temp)\n",
        "    sum_temp = 0\n",
        "    for temp in list_temp:\n",
        "        sum_temp += temp\n",
        "    return sum_temp/n\n",
        "\n",
        "\n",
        "def average_temp_v2(list_temp):\n",
        "    n = len(list_temp)\n",
        "    sum_temp = 0\n",
        "    for i in range(n):\n",
        "        sum_temp += list_temp[i]\n",
        "    return sum_temp/n\n"
      ],
      "metadata": {
        "id": "JAip9uRER_Q3"
      },
      "execution_count": 3,
      "outputs": []
    },
    {
      "cell_type": "code",
      "source": [
        "temperatures = [20.5, 22.3, 19.8, 21.6, 23.2, 18.9, 20.2]\n",
        "print(average_temp(temperatures))\n",
        "print(average_temp_v2(temperatures))\n",
        "print(sum(temperatures)/len(temperatures))"
      ],
      "metadata": {
        "id": "NRl1Y-_O479T",
        "outputId": "2869d6e3-6dc4-4dcd-be82-e02bc9ccfa15",
        "colab": {
          "base_uri": "https://localhost:8080/"
        }
      },
      "execution_count": 5,
      "outputs": [
        {
          "output_type": "stream",
          "name": "stdout",
          "text": [
            "20.928571428571423\n",
            "20.928571428571423\n",
            "20.928571428571423\n"
          ]
        }
      ]
    },
    {
      "cell_type": "code",
      "source": [
        "def hot_days_count(list_temp):\n",
        "    count = 0\n",
        "    for temp in list_temp:\n",
        "        if temp > 21:\n",
        "            count = count + 1\n",
        "\n",
        "    return count\n",
        "\n",
        "def hot_days_count_v2(list_temp):\n",
        "    count = 0\n",
        "    for temp in list_temp:\n",
        "        if temp > 21:\n",
        "            count = count + 1\n",
        "\n",
        "    return f\"There were {count} days with a temperature above 21C\""
      ],
      "metadata": {
        "id": "Wg4PbbgC8oXs"
      },
      "execution_count": 11,
      "outputs": []
    },
    {
      "cell_type": "code",
      "source": [
        "def coldest_day(list_temp):\n",
        "    min_potentiel = list_temp[0]\n",
        "\n",
        "    for temp in list_temp:\n",
        "        if temp < min_potentiel:\n",
        "            min_potentiel = temp\n",
        "    return min_potentiel ## return the min element of list_temp\n",
        "    #return list_temp.index(min_potentiel) ## return the index of min of list_temp"
      ],
      "metadata": {
        "id": "2XfCRxRKA5wc"
      },
      "execution_count": null,
      "outputs": []
    },
    {
      "cell_type": "code",
      "source": [
        "def coldest_day_good_answers(list_temp):\n",
        "    min_potentiel_index = 0\n",
        "\n",
        "    for i in range(len(list_temp)):\n",
        "        if list_temp[i] < list_temp[min_potentiel_index]:\n",
        "            min_potentiel_index = i\n",
        "    return min_potentiel_index"
      ],
      "metadata": {
        "id": "3wz_aJ3yCCRB"
      },
      "execution_count": null,
      "outputs": []
    },
    {
      "cell_type": "code",
      "source": [
        "hot_days_count(temperatures)"
      ],
      "metadata": {
        "id": "6NzEUKZ_9ZzL",
        "outputId": "cd20c4b7-d376-451f-edcb-e4992c614653",
        "colab": {
          "base_uri": "https://localhost:8080/"
        }
      },
      "execution_count": 9,
      "outputs": [
        {
          "output_type": "execute_result",
          "data": {
            "text/plain": [
              "3"
            ]
          },
          "metadata": {},
          "execution_count": 9
        }
      ]
    },
    {
      "cell_type": "code",
      "source": [
        "print(hot_days_count_v2(temperatures))"
      ],
      "metadata": {
        "id": "x6Lpkvwg9cGC",
        "outputId": "5ebe6be5-8927-4595-c826-c8efc9903eda",
        "colab": {
          "base_uri": "https://localhost:8080/"
        }
      },
      "execution_count": 12,
      "outputs": [
        {
          "output_type": "stream",
          "name": "stdout",
          "text": [
            "There were 3 days with a temperature above 21C\n"
          ]
        }
      ]
    },
    {
      "cell_type": "markdown",
      "source": [
        "# Introduction to NumPy\n",
        "## Context and Objective\n",
        "\n",
        "Python is an almost indispensable programming language in the world of Quantitative finance. It's simple, open source, and increasingly popular.  \n",
        "In this exercise, you will learn to use the NumPy module. NumPy is a Python package specialized in the manipulation of arrays.  \n",
        "This exercise will only focus on one-dimensional arrays (vectors) and two-dimensional arrays (matrices).\n",
        "\n",
        "[For more information on NumPy](http://www.numpy.org/)\n",
        "\n",
        "## Prerequisite Skills\n",
        "\n",
        "- Basic programming concepts\n",
        "- Lists\n",
        "- Basic linear algebra concepts\n",
        "\n",
        "## Instructions\n",
        "\n",
        "The exercise is composed of several questions; please answer them in order.\n",
        "\n",
        "To begin, you need to import the `numpy` module using the alias `np`. Execute the following preamble cell:\n",
        "\n"
      ],
      "metadata": {
        "id": "wAriYIftuAcc"
      }
    },
    {
      "cell_type": "code",
      "source": [
        "import numpy as np"
      ],
      "metadata": {
        "id": "FhkVIupot_Ms"
      },
      "execution_count": 14,
      "outputs": []
    },
    {
      "cell_type": "markdown",
      "source": [
        "In Python, an array is an ordered collection of values, which can be of any type, not **only numbers**.\n",
        "\n",
        "The `array()` method allows you to define a **one-dimensional array** from a list. Given `X` as a list of values, you can use the command `np.array(X)` to transform the list into a one-dimensional array.\n",
        "\n",
        "* Create an array from the list `[1,1,1,1]`"
      ],
      "metadata": {
        "id": "cCWtCwZRuaH-"
      }
    },
    {
      "cell_type": "code",
      "source": [
        "## Insert your code here\n",
        "np.array([1, 1, 1, 1])"
      ],
      "metadata": {
        "id": "5HvkPTe2uIz0",
        "outputId": "c808d9f9-60ac-4395-fcd5-96bd55d4c014",
        "colab": {
          "base_uri": "https://localhost:8080/"
        }
      },
      "execution_count": 17,
      "outputs": [
        {
          "output_type": "execute_result",
          "data": {
            "text/plain": [
              "numpy.int64"
            ]
          },
          "metadata": {},
          "execution_count": 17
        }
      ]
    },
    {
      "cell_type": "markdown",
      "source": [
        "There are commands to inquire about the variables we are manipulating. Here's a table summarizing these commands:\n",
        "\n",
        "| Command    | Effect                                         | Example                     |\n",
        "|------------|------------------------------------------------|-----------------------------|\n",
        "| type(X)    | Returns the type of the variable X            | type(2) returns `<class 'int'>`      |\n",
        "| np.shape(X)| Returns the dimension of the variable X       | np.shape([1,2]) returns (2,) |\n",
        "\n",
        "By default, Numpy creates one-dimensional arrays from lists. If you want a different dimension, you should specify it using the command `np.reshape(X, new_shape)` where `X` is the array whose dimensions you want to change.\n",
        "\n",
        "* Create a variable *a* and assign to it an array with the list [1,2,3,4,5]\n",
        "* Verify that its dimension is indeed (5,)"
      ],
      "metadata": {
        "id": "oI0_wcMeucbH"
      }
    },
    {
      "cell_type": "code",
      "source": [
        "## Insert your code here\n",
        "a = np.array([1, 2, 3, 4, 5])\n",
        "print(a.shape)\n"
      ],
      "metadata": {
        "id": "e9tap3Ocupx3",
        "outputId": "47077266-2b95-4a48-d175-5450a3a74edb",
        "colab": {
          "base_uri": "https://localhost:8080/"
        }
      },
      "execution_count": 18,
      "outputs": [
        {
          "output_type": "stream",
          "name": "stdout",
          "text": [
            "(5,)\n"
          ]
        }
      ]
    },
    {
      "cell_type": "code",
      "source": [
        "np.reshape(a, (5, 1))"
      ],
      "metadata": {
        "id": "ctkE0TeyGLE7",
        "outputId": "159d3b94-85fb-4b5c-ff81-01ead50eb22a",
        "colab": {
          "base_uri": "https://localhost:8080/"
        }
      },
      "execution_count": 24,
      "outputs": [
        {
          "output_type": "execute_result",
          "data": {
            "text/plain": [
              "array([[1],\n",
              "       [2],\n",
              "       [3],\n",
              "       [4],\n",
              "       [5]])"
            ]
          },
          "metadata": {},
          "execution_count": 24
        }
      ]
    },
    {
      "cell_type": "code",
      "source": [
        "print(a)"
      ],
      "metadata": {
        "id": "2ukFAiMxGkBx",
        "outputId": "7bf90cf9-3bd7-4fc0-e47d-c7594c13952f",
        "colab": {
          "base_uri": "https://localhost:8080/"
        }
      },
      "execution_count": 22,
      "outputs": [
        {
          "output_type": "stream",
          "name": "stdout",
          "text": [
            "[1 2 3 4 5]\n"
          ]
        }
      ]
    },
    {
      "cell_type": "markdown",
      "source": [
        "Now that we've seen how to get information about arrays, we'd like to create some. There are various commands to generate one-dimensional arrays. Here's a table summarizing them:\n",
        "\n",
        "| Command               | Meaning                                                        | Example                                    |\n",
        "|-----------------------|----------------------------------------------------------------|--------------------------------------------|\n",
        "| np.ones(n)            | Returns an array of dimension (n,) of 1s                        | np.ones(5) returns array([1, 1, 1, 1, 1])  |\n",
        "| np.zeros(n)           | Returns an array of dimension (n,) of 0s                        | np.zeros(5) returns array([0, 0, 0, 0, 0]) |\n",
        "| np.arange(n)          | Returns an array of dim(n,) of ordered numbers from 0 to n-1    | np.arange(5) returns array([0, 1, 2, 3, 4])|\n",
        "| np.linspace(a,b,n)    | Returns an array of dim(n,) of n numbers evenly spaced between a and b | np.linspace(0,5,5) returns array([0, 1.25, 2.5, 3.75, 5.0])|\n",
        "| np.linspace(a,b)      | Returns an array of dim(50,) of 50 numbers evenly spaced between a and b |                                            |\n",
        "| np.concatenate((X,Y)) | Returns an array of dim(dimX+dimY,) resulting from the assembly of X and Y | np.concatenate((array([1]),array([0]))) returns array([1,0])|\n",
        "\n",
        "- Create 3 variables a, b, c\n",
        "- Assign to a an array with 5 zeros\n",
        "- Assign to b an array with 5 ones\n",
        "- Assign to c an array of size 10 containing 5 zeros followed by 5 ones, arranged judiciously.\n"
      ],
      "metadata": {
        "id": "8mLHt8rMuqdB"
      }
    },
    {
      "cell_type": "code",
      "source": [
        "## Insert your code here\n",
        "a = np.zeros(5)\n",
        "b = np.ones(5)\n",
        "c = np.concatenate((a, b))"
      ],
      "metadata": {
        "id": "LKjtoLTSvDN8"
      },
      "execution_count": 27,
      "outputs": []
    },
    {
      "cell_type": "code",
      "source": [
        "print(a)\n",
        "print(b)\n",
        "print(c)"
      ],
      "metadata": {
        "id": "q-DP0dtDHabs",
        "outputId": "8d769f87-9179-4d03-dbc8-23130eea9302",
        "colab": {
          "base_uri": "https://localhost:8080/"
        }
      },
      "execution_count": 28,
      "outputs": [
        {
          "output_type": "stream",
          "name": "stdout",
          "text": [
            "[0. 0. 0. 0. 0.]\n",
            "[1. 1. 1. 1. 1.]\n",
            "[0. 0. 0. 0. 0. 1. 1. 1. 1. 1.]\n"
          ]
        }
      ]
    },
    {
      "cell_type": "markdown",
      "source": [
        "- Generate two arrays of ordered numbers from 0 to 10 (thus of size 11) using different commands.\n",
        "- Display them."
      ],
      "metadata": {
        "id": "5ph-wtdfvP4W"
      }
    },
    {
      "cell_type": "code",
      "source": [
        "## Insert your code here\n",
        "print(np.arange(11))"
      ],
      "metadata": {
        "id": "0xZnIuCFvQLx",
        "outputId": "51381d6a-6f25-4517-b1f8-40dd01d312a6",
        "colab": {
          "base_uri": "https://localhost:8080/"
        }
      },
      "execution_count": 30,
      "outputs": [
        {
          "output_type": "stream",
          "name": "stdout",
          "text": [
            "[ 0  1  2  3  4  5  6  7  8  9 10]\n"
          ]
        }
      ]
    },
    {
      "cell_type": "code",
      "source": [
        "print(np.linspace(0, 10, 11))"
      ],
      "metadata": {
        "id": "XNLiSyr3LfV5",
        "outputId": "84dfc935-b4c6-4ad5-d3c9-c8e6188c4697",
        "colab": {
          "base_uri": "https://localhost:8080/"
        }
      },
      "execution_count": 36,
      "outputs": [
        {
          "output_type": "stream",
          "name": "stdout",
          "text": [
            "[ 0.  1.  2.  3.  4.  5.  6.  7.  8.  9. 10.]\n"
          ]
        }
      ]
    },
    {
      "cell_type": "markdown",
      "source": [
        "- Create a list `c` with numbers ranging from 0 to 10 **A list, not an array**. Use the following syntax: `list(range())`.\n",
        "- Add 5 to all the terms in `c`. *You may need to change the type of c*.\n",
        "- Display `c`.\n"
      ],
      "metadata": {
        "id": "lK7yW4_XvRpX"
      }
    },
    {
      "cell_type": "code",
      "source": [
        "## Insert your code here\n",
        "c = list(range(11))\n",
        "print('c:',c)\n",
        "print('using native python ', [k + 5 for k in c])\n",
        "#print(c + 5)\n",
        "c = np.array(c) + 5\n",
        "print('using numpy: ', c)"
      ],
      "metadata": {
        "id": "DaOh7T6cvcSl",
        "outputId": "5245a213-5331-43b8-a4f5-1cd4a86a70d3",
        "colab": {
          "base_uri": "https://localhost:8080/"
        }
      },
      "execution_count": 43,
      "outputs": [
        {
          "output_type": "stream",
          "name": "stdout",
          "text": [
            "c: [0, 1, 2, 3, 4, 5, 6, 7, 8, 9, 10]\n",
            "using native python  [5, 6, 7, 8, 9, 10, 11, 12, 13, 14, 15]\n",
            "using numpy:  [ 5  6  7  8  9 10 11 12 13 14 15]\n"
          ]
        }
      ]
    },
    {
      "cell_type": "markdown",
      "source": [
        "We can perform similar operations with matrices, which are 2-dimensional arrays.\n",
        "\n",
        "Thus, `np.ones((n, p))` returns an `NxP` matrix filled with ones, `np.zeros((n, p))` returns an `NxP` matrix filled with zeros.\n",
        "\n",
        "`np.diag(v)` returns a matrix whose diagonal consists of the vector v. Moreover, `np.diag(v, k)` returns a matrix where the k-th diagonal consists of the vector v. k can be positive or negative; if k is positive, the shift is to the \"right,\" otherwise to the left.\n",
        "\n",
        "- Create a matrix *mat* of size 5x5 with 1s on the diagonal.\n",
        "- Display it."
      ],
      "metadata": {
        "id": "ykfObg7bvdHc"
      }
    },
    {
      "cell_type": "code",
      "source": [
        "[1]*5"
      ],
      "metadata": {
        "id": "Kz_6gPLLPtUg",
        "outputId": "017a44f7-aab0-4a46-e457-8b19474c81fc",
        "colab": {
          "base_uri": "https://localhost:8080/"
        }
      },
      "execution_count": 47,
      "outputs": [
        {
          "output_type": "execute_result",
          "data": {
            "text/plain": [
              "[1, 1, 1, 1, 1]"
            ]
          },
          "metadata": {},
          "execution_count": 47
        }
      ]
    },
    {
      "cell_type": "code",
      "source": [
        "## Insert your code here\n",
        "mat = np.diag(np.ones(5))\n",
        "\n",
        "print(mat)\n",
        "print(np.diag([1]*5))"
      ],
      "metadata": {
        "id": "3c0YqbgbvwcP",
        "outputId": "53869e93-d1af-4db4-ff3a-b892bb7ec1c8",
        "colab": {
          "base_uri": "https://localhost:8080/"
        }
      },
      "execution_count": 52,
      "outputs": [
        {
          "output_type": "stream",
          "name": "stdout",
          "text": [
            "[[1. 0. 0. 0. 0.]\n",
            " [0. 1. 0. 0. 0.]\n",
            " [0. 0. 1. 0. 0.]\n",
            " [0. 0. 0. 1. 0.]\n",
            " [0. 0. 0. 0. 1.]]\n",
            "[[1 0 0 0 0]\n",
            " [0 1 0 0 0]\n",
            " [0 0 1 0 0]\n",
            " [0 0 0 1 0]\n",
            " [0 0 0 0 1]]\n"
          ]
        }
      ]
    },
    {
      "cell_type": "markdown",
      "source": [
        "We can use mathematical operators **+**, **-**, on arrays provided that the mathematical operation makes sense.\n",
        "\n",
        "**Caution: If you use the operators '\\*' or '/' you will only perform a term-by-term operation**\n",
        "- Create a 6x6 matrix with 1s on the diagonal and on the sub-diagonal using a mathematical operator.\n",
        "- Display it.\n",
        "\n"
      ],
      "metadata": {
        "id": "SD0F7LOSv5GH"
      }
    },
    {
      "cell_type": "code",
      "source": [
        "np.diag(np.ones(5), -1) + np.diag(np.ones(6))"
      ],
      "metadata": {
        "id": "tz3ZK5QQQcZC",
        "outputId": "6a6d578d-81cd-488c-a0ad-40af6be62e57",
        "colab": {
          "base_uri": "https://localhost:8080/"
        }
      },
      "execution_count": 59,
      "outputs": [
        {
          "output_type": "execute_result",
          "data": {
            "text/plain": [
              "array([[1., 0., 0., 0., 0., 0.],\n",
              "       [1., 1., 0., 0., 0., 0.],\n",
              "       [0., 1., 1., 0., 0., 0.],\n",
              "       [0., 0., 1., 1., 0., 0.],\n",
              "       [0., 0., 0., 1., 1., 0.],\n",
              "       [0., 0., 0., 0., 1., 1.]])"
            ]
          },
          "metadata": {},
          "execution_count": 59
        }
      ]
    },
    {
      "cell_type": "code",
      "source": [
        "a = np.diag(np.ones(6))\n",
        "for i in range(5):\n",
        "    a[i+1,i] = 1\n",
        "print(a)"
      ],
      "metadata": {
        "id": "9oN_qk48SZie",
        "outputId": "a78e5d9c-225d-4a4a-91b4-ef14a7f40d9e",
        "colab": {
          "base_uri": "https://localhost:8080/"
        }
      },
      "execution_count": 61,
      "outputs": [
        {
          "output_type": "stream",
          "name": "stdout",
          "text": [
            "[[1. 0. 0. 0. 0. 0.]\n",
            " [1. 1. 0. 0. 0. 0.]\n",
            " [0. 1. 1. 0. 0. 0.]\n",
            " [0. 0. 1. 1. 0. 0.]\n",
            " [0. 0. 0. 1. 1. 0.]\n",
            " [0. 0. 0. 0. 1. 1.]]\n"
          ]
        }
      ]
    },
    {
      "cell_type": "code",
      "source": [
        "a = np.zeros((2,2))\n",
        "a[0, 0] = 1\n",
        "print(a)"
      ],
      "metadata": {
        "id": "ch4ej1gbSTDG",
        "outputId": "103babf5-ebb7-4cef-91b6-44e2d3bf66fc",
        "colab": {
          "base_uri": "https://localhost:8080/"
        }
      },
      "execution_count": 60,
      "outputs": [
        {
          "output_type": "stream",
          "name": "stdout",
          "text": [
            "[[1. 0.]\n",
            " [0. 0.]]\n"
          ]
        }
      ]
    },
    {
      "cell_type": "code",
      "source": [
        "## Insert your code here\n"
      ],
      "metadata": {
        "id": "f3sQ2gCev5bB"
      },
      "execution_count": null,
      "outputs": []
    },
    {
      "cell_type": "markdown",
      "source": [
        "Accessing specific elements of an array is done similarly to lists. If the array is two-dimensional, two parameters are needed.\n",
        "\n",
        "*For example*: let X be a two-dimensional array, `X[0, 0]` returns the element located at row 1, column 1. `X[:, 0]` returns the first column. `X[0:3, 0]` returns the first three rows of the first column. This method is referred to as *slicing* in programming.\n",
        "\n",
        "- Create this matrix using `np.ones()`, `np.diag()` and slicing:\n",
        "$$\n",
        "\\begin{pmatrix}\n",
        "5 & 0 & 0 & 0 \\\\\n",
        "5 & 1 & 0 & 0 \\\\\n",
        "4 & 4 & 4 & 4 \\\\\n",
        "5 & 0 & 0 & 1\n",
        "\\end{pmatrix}\n",
        "$$"
      ],
      "metadata": {
        "id": "uZa1ER-mwIFN"
      }
    },
    {
      "cell_type": "code",
      "source": [
        "## Insert your code here\n",
        "X = np.diag(np.ones(4))\n",
        "print('first step')\n",
        "print(X)\n",
        "X[:, 0] = 5\n",
        "print('second step')\n",
        "print(X)\n",
        "X[2, :] = 4\n",
        "print(X)"
      ],
      "metadata": {
        "id": "ax8kpF2uwIcL",
        "outputId": "3de8af4b-7fba-4113-842a-9d3859794364",
        "colab": {
          "base_uri": "https://localhost:8080/"
        }
      },
      "execution_count": 69,
      "outputs": [
        {
          "output_type": "stream",
          "name": "stdout",
          "text": [
            "first step\n",
            "[[1. 0. 0. 0.]\n",
            " [0. 1. 0. 0.]\n",
            " [0. 0. 1. 0.]\n",
            " [0. 0. 0. 1.]]\n",
            "second step\n",
            "[[5. 0. 0. 0.]\n",
            " [5. 1. 0. 0.]\n",
            " [5. 0. 1. 0.]\n",
            " [5. 0. 0. 1.]]\n",
            "[[5. 0. 0. 0.]\n",
            " [5. 1. 0. 0.]\n",
            " [4. 4. 4. 4.]\n",
            " [5. 0. 0. 1.]]\n"
          ]
        }
      ]
    },
    {
      "cell_type": "markdown",
      "source": [
        "With the Numpy module, you can create random numbers uniformly distributed between 0 and 1. The syntax is as follows: `np.random.rand()` to return a single draw, `np.random.rand(n)` to return a row array of n draws, and `np.random.rand(n, p)` to return an NxP matrix of uniformly distributed random draws.\n",
        "\n",
        "- Display a random number distributed between 0 and 1\n"
      ],
      "metadata": {
        "id": "plIvwEMSwX5f"
      }
    },
    {
      "cell_type": "code",
      "source": [
        "## Insert your code here\n",
        "np.random.rand()"
      ],
      "metadata": {
        "id": "y5GdVrK4wYRK",
        "outputId": "fbd22a6a-5bdd-4023-fc5f-f3741f3aba01",
        "colab": {
          "base_uri": "https://localhost:8080/"
        }
      },
      "execution_count": 71,
      "outputs": [
        {
          "output_type": "execute_result",
          "data": {
            "text/plain": [
              "0.5774346488779879"
            ]
          },
          "metadata": {},
          "execution_count": 71
        }
      ]
    },
    {
      "cell_type": "markdown",
      "source": [
        "- Display a 5x5 matrix of random numbers distributed between 0 and 1"
      ],
      "metadata": {
        "id": "VCOAFkRdwhc7"
      }
    },
    {
      "cell_type": "code",
      "source": [
        "## Insert your code here\n",
        "np.random.rand(5,5)"
      ],
      "metadata": {
        "id": "Xc4a4v_6wjMQ",
        "outputId": "a5678eee-9e18-44f6-abb7-2a3dc49850b2",
        "colab": {
          "base_uri": "https://localhost:8080/"
        }
      },
      "execution_count": 73,
      "outputs": [
        {
          "output_type": "execute_result",
          "data": {
            "text/plain": [
              "array([[0.97260651, 0.95669521, 0.02313058, 0.93772819, 0.74627852],\n",
              "       [0.14277373, 0.3081257 , 0.97415204, 0.98291874, 0.28413515],\n",
              "       [0.38250274, 0.3196823 , 0.36813098, 0.47843334, 0.51456493],\n",
              "       [0.85598186, 0.43603906, 0.97431942, 0.56260223, 0.64943458],\n",
              "       [0.09517406, 0.50605241, 0.02857442, 0.10516136, 0.25826298]])"
            ]
          },
          "metadata": {},
          "execution_count": 73
        }
      ]
    },
    {
      "cell_type": "markdown",
      "source": [
        "- Write a function `random_number()` that takes two integer parameters and returns a random number uniformly distributed between the two integers.\n",
        "- Call the function `random_number(10, 15)`\n",
        "\n",
        "*Note: If $X \\sim U[0,1]$, then $Y := (b-a)X + a \\sim U[a,b]$*\n",
        "\n"
      ],
      "metadata": {
        "id": "a9QT6fSBwwO_"
      }
    },
    {
      "cell_type": "code",
      "source": [
        "## Insert your code here\n",
        "def random_number(a, b):\n",
        "    return (b-a)*np.random.rand() + a"
      ],
      "metadata": {
        "id": "rh8NDNuVww7T"
      },
      "execution_count": 74,
      "outputs": []
    },
    {
      "cell_type": "code",
      "source": [
        "random_number(10, 15)"
      ],
      "metadata": {
        "id": "sM4I4NyLYOLJ",
        "outputId": "f413b139-2966-4a59-9135-e5375fab3825",
        "colab": {
          "base_uri": "https://localhost:8080/"
        }
      },
      "execution_count": 75,
      "outputs": [
        {
          "output_type": "execute_result",
          "data": {
            "text/plain": [
              "14.993937245301163"
            ]
          },
          "metadata": {},
          "execution_count": 75
        }
      ]
    },
    {
      "cell_type": "code",
      "source": [
        "np.random.uniform(10, 15)"
      ],
      "metadata": {
        "id": "veboZ1IXYdRh",
        "outputId": "c447bd8f-eb7b-4f08-9f89-df7ba6b41b5c",
        "colab": {
          "base_uri": "https://localhost:8080/"
        }
      },
      "execution_count": 77,
      "outputs": [
        {
          "output_type": "execute_result",
          "data": {
            "text/plain": [
              "14.563300230465263"
            ]
          },
          "metadata": {},
          "execution_count": 77
        }
      ]
    },
    {
      "cell_type": "markdown",
      "source": [
        "- Write a function `random_matrix()` that takes an integer parameter N and returns a NxN matrix with 1s everywhere except on the diagonal where there are numbers uniformly distributed between 0 and 1.\n",
        "- Test for N=3 and N=5\n",
        "\n",
        "> Example: `random_matrix(3)` should return a matrix similar to\n",
        "$$\n",
        "\\begin{pmatrix}\n",
        "0.62678954 & 1 & 1 \\\\\n",
        "1 & 0.94077299 & 1 \\\\\n",
        "1 & 1 & 0.29263003 \\\\\n",
        "\\end{pmatrix}\n",
        "$$"
      ],
      "metadata": {
        "id": "rlN_d71TxBUk"
      }
    },
    {
      "cell_type": "code",
      "source": [
        "## Insert your code here\n",
        "def random_matrix(N):\n",
        "    mat_1 = np.diag(np.random.rand(N))\n",
        "    mat_2 = np.ones((N, N))\n",
        "    return mat_2 - mat_1\n",
        "\n",
        "def random_matrix_2(N):\n",
        "    mat_1 = np.ones((N, N))\n",
        "    for i in range(N):\n",
        "        mat_1[i, i] = np.random.rand()\n",
        "    return mat_1\n",
        "print(random_matrix(3))\n",
        "print(random_matrix(5))"
      ],
      "metadata": {
        "id": "MrT8b64qxBnW",
        "outputId": "50532c0c-4fdc-460d-a29a-81740318e04a",
        "colab": {
          "base_uri": "https://localhost:8080/"
        }
      },
      "execution_count": 80,
      "outputs": [
        {
          "output_type": "stream",
          "name": "stdout",
          "text": [
            "[[0.38920739 1.         1.        ]\n",
            " [1.         0.2700532  1.        ]\n",
            " [1.         1.         0.00604653]]\n",
            "[[0.45408541 1.         1.         1.         1.        ]\n",
            " [1.         0.68944294 1.         1.         1.        ]\n",
            " [1.         1.         0.14167983 1.         1.        ]\n",
            " [1.         1.         1.         0.92288597 1.        ]\n",
            " [1.         1.         1.         1.         0.10524337]]\n"
          ]
        }
      ]
    },
    {
      "cell_type": "markdown",
      "source": [
        "- In NumPy, operations can be performed between arrays and scalars.\n",
        "> Example:\n",
        "```\n",
        "a = np.array([1, 2, 3])\n",
        "a * 4 returns array([4, 8, 12])\n",
        "a + 2 returns array([3, 4, 5])\n",
        "```\n",
        "\n",
        "- Create a matrix mat_one of size 5x5 with fives on the diagonal\n",
        "- Create two matrices mat_two and mat_two_bis of size 5x5 with twos everywhere, in two different ways\n",
        "- Display the matrices"
      ],
      "metadata": {
        "id": "cO7U9vCJxVPm"
      }
    },
    {
      "cell_type": "code",
      "source": [
        "## Insert your code here\n",
        "matrix_one = np.diag(5*np.ones(5))\n",
        "print(matrix_one)\n",
        "print(np.ones((5,5))*2)\n",
        "print(np.reshape([2]*25, (5, 5)))\n",
        "print(np.ones((5,5)) + np.ones((5,5)))"
      ],
      "metadata": {
        "id": "grSn88lWxprc",
        "outputId": "89f6bcbb-3d47-45f3-8ff8-1b0b86e66ccb",
        "colab": {
          "base_uri": "https://localhost:8080/"
        }
      },
      "execution_count": 90,
      "outputs": [
        {
          "output_type": "stream",
          "name": "stdout",
          "text": [
            "[[5. 0. 0. 0. 0.]\n",
            " [0. 5. 0. 0. 0.]\n",
            " [0. 0. 5. 0. 0.]\n",
            " [0. 0. 0. 5. 0.]\n",
            " [0. 0. 0. 0. 5.]]\n",
            "[[2. 2. 2. 2. 2.]\n",
            " [2. 2. 2. 2. 2.]\n",
            " [2. 2. 2. 2. 2.]\n",
            " [2. 2. 2. 2. 2.]\n",
            " [2. 2. 2. 2. 2.]]\n",
            "[[2 2 2 2 2]\n",
            " [2 2 2 2 2]\n",
            " [2 2 2 2 2]\n",
            " [2 2 2 2 2]\n",
            " [2 2 2 2 2]]\n",
            "[[2. 2. 2. 2. 2.]\n",
            " [2. 2. 2. 2. 2.]\n",
            " [2. 2. 2. 2. 2.]\n",
            " [2. 2. 2. 2. 2.]\n",
            " [2. 2. 2. 2. 2.]]\n"
          ]
        }
      ]
    },
    {
      "cell_type": "markdown",
      "source": [
        "In NumPy, operations between arrays are performed element-wise by default.\n",
        "\n",
        "> Example:\n",
        "```\n",
        "a = np.array([1, 2, 3])\n",
        "b = np.array([4, 5, 6])\n",
        "a * b returns array([4, 10, 18])\n",
        "```\n",
        "\n",
        "To perform matrix multiplication in the mathematical sense, the following syntax is used: np.dot(X,Y)\n",
        "\n",
        "If the dimensions are incompatible, errors are triggered.\n",
        "\n",
        "\n",
        "\n",
        "- Create a matrix `mat_one` of size 5x5 with random numbers.\n",
        "- Create a matrix `mat_two` of size 5x5 with ones everywhere.\n",
        "- Create a matrix `mat_three` and assign to it the element-wise product between `mat_one` and `mat_two`\n",
        "- Create a matrix mat_four and assign to it the matrix product between `mat_one` and `mat_two`\n",
        "- Display `mat_three` and `mat_four`"
      ],
      "metadata": {
        "id": "DFBP4YlVxp4u"
      }
    },
    {
      "cell_type": "code",
      "source": [
        "## Insert your code here"
      ],
      "metadata": {
        "id": "KVPRPiaNyEJf"
      },
      "execution_count": null,
      "outputs": []
    },
    {
      "cell_type": "markdown",
      "source": [
        "\n",
        "- Create a matrix `a` with dimensions 5x2 with arbitrary values\n",
        "- Create another matrix `b` with dimensions 2x5 with arbitrary values\n",
        "- Return the meaningful product of the two matrices here\n",
        "\n"
      ],
      "metadata": {
        "id": "IO3vv39XyEe1"
      }
    },
    {
      "cell_type": "code",
      "source": [
        "## Insert your code here"
      ],
      "metadata": {
        "id": "LFlSHwHuyNXF"
      },
      "execution_count": null,
      "outputs": []
    },
    {
      "cell_type": "markdown",
      "source": [
        "The use of logical operators is possible via NumPy.\n",
        "\n",
        "- Create two matrices *mat_one* and *mat_two* of size 5x5 with random values.\n",
        "- Using the operator `*` and the logical operator '`==`', return a 5x5 matrix of True.\n",
        "- Using matrix multiplication and the logical operator '`==`', return a 5x5 matrix of False.\n"
      ],
      "metadata": {
        "id": "j7LF_8uryNof"
      }
    },
    {
      "cell_type": "code",
      "source": [
        "## Insert your code here"
      ],
      "metadata": {
        "id": "dCDkfbx5yafK"
      },
      "execution_count": null,
      "outputs": []
    },
    {
      "cell_type": "markdown",
      "source": [
        "Lastly, it is possible to analyze data with NumPy. Here are some functions summarized:\n",
        "\n",
        "| Command   | Meaning                 |\n",
        "|-----------|-------------------------|\n",
        "| np.mean(X) | returns the mean of X   |\n",
        "| np.var(X)  | returns the variance of X|\n",
        "| np.std(X)  | returns the standard deviation of X |\n",
        "| X.sum()  | sums the elements of X   |\n",
        "| X.prod() | multiplies the elements of X |\n",
        "| X.min()  | returns the minimum of X |\n",
        "| X.max()  | returns the maximum of X |\n",
        "\n",
        "Furthermore, when working with matrices, it's possible to specify a second argument or a parameter to clarify where we are working. For example:\n",
        "\n",
        "```\n",
        "mat = np.random.rand(5, 5)\n",
        "np.mean(mat, axis = 0)  ## returns the mean of the rows\n",
        "np.mean(mat, axis = 1) ## returns the mean of the columns\n",
        "mat.sum(axis = 0) ## returns the sum of the rows\n",
        "```\n",
        "- Verify that the mean of a uniformly distributed law on [0,1] is close to 0.5 for a large number of draws.\n",
        "\n",
        "**Note:**\n",
        "\n",
        "*As the number of draws increases, the mean value of the uniformly distributed random values should converge to 0.5 according to the Law of Large Numbers.*"
      ],
      "metadata": {
        "id": "n9L03pA6yawX"
      }
    },
    {
      "cell_type": "code",
      "source": [
        "np.inf"
      ],
      "metadata": {
        "id": "p-nJTIjtdYei",
        "outputId": "106a4e69-89ab-401c-bf6c-5a247d00b271",
        "colab": {
          "base_uri": "https://localhost:8080/"
        }
      },
      "execution_count": 92,
      "outputs": [
        {
          "output_type": "execute_result",
          "data": {
            "text/plain": [
              "inf"
            ]
          },
          "metadata": {},
          "execution_count": 92
        }
      ]
    },
    {
      "cell_type": "code",
      "source": [
        "## Insert your code here\n",
        "np.mean(np.random.rand(1000000))"
      ],
      "metadata": {
        "id": "6-bGhu1qy4hT",
        "outputId": "5c3211c8-cc5b-4627-a1fa-be419b09e8fd",
        "colab": {
          "base_uri": "https://localhost:8080/",
          "height": 159
        }
      },
      "execution_count": 1,
      "outputs": [
        {
          "output_type": "error",
          "ename": "NameError",
          "evalue": "name 'np' is not defined",
          "traceback": [
            "\u001b[0;31m---------------------------------------------------------------------------\u001b[0m",
            "\u001b[0;31mNameError\u001b[0m                                 Traceback (most recent call last)",
            "\u001b[0;32m<ipython-input-1-7305b9a18903>\u001b[0m in \u001b[0;36m<cell line: 2>\u001b[0;34m()\u001b[0m\n\u001b[1;32m      1\u001b[0m \u001b[0;31m## Insert your code here\u001b[0m\u001b[0;34m\u001b[0m\u001b[0;34m\u001b[0m\u001b[0m\n\u001b[0;32m----> 2\u001b[0;31m \u001b[0mnp\u001b[0m\u001b[0;34m.\u001b[0m\u001b[0mmean\u001b[0m\u001b[0;34m(\u001b[0m\u001b[0mnp\u001b[0m\u001b[0;34m.\u001b[0m\u001b[0mrandom\u001b[0m\u001b[0;34m.\u001b[0m\u001b[0mrand\u001b[0m\u001b[0;34m(\u001b[0m\u001b[0;36m1000000\u001b[0m\u001b[0;34m)\u001b[0m\u001b[0;34m)\u001b[0m\u001b[0;34m\u001b[0m\u001b[0;34m\u001b[0m\u001b[0m\n\u001b[0m",
            "\u001b[0;31mNameError\u001b[0m: name 'np' is not defined"
          ]
        }
      ]
    },
    {
      "cell_type": "markdown",
      "source": [
        "- Calculate this product using only Numpy methods, display the result\n",
        "\n",
        "$$\n",
        "\\frac{\\pi}2=\\prod_{n=1}^{\\infty}\\frac{4n^2}{4n^2-1}\n",
        "$$\n",
        "\n",
        "- Compare using `np.math.pi`\n",
        "\n",
        "---"
      ],
      "metadata": {
        "id": "aOl281MZy43-"
      }
    },
    {
      "cell_type": "code",
      "source": [
        "## Insert your code here\n"
      ],
      "metadata": {
        "id": "U2CKFcRtzzOs"
      },
      "execution_count": null,
      "outputs": []
    },
    {
      "cell_type": "markdown",
      "source": [
        "## To go further..\n",
        "\n",
        "**Exercise 1:**\n",
        "- Create an array of 10 zeros.\n",
        "- Create an array of 10 ones.\n",
        "- Create an array of 10 fives.\n",
        "- Create an array of the integers from 10 to 50.\n",
        "\n",
        "**Exercise 2:**\n",
        "- Create an array of all even integers from 10 to 50.\n",
        "- Create a 3x3 matrix with values ranging from 0 to 8.\n",
        "- Create a 3x3 identity matrix.\n",
        "- Use indexing to replace the top row of the matrix from Exercise 2 with 9s.\n",
        "\n",
        "**Exercise 3**\n",
        "- Generate a random array of size 25. Find its mean.\n",
        "- Generate a random matrix of size 5x5. Find the sum of all the elements, the sum of the columns, and the sum of the rows.\n",
        "\n",
        "**Exercise 4**\n",
        "- Multiply a 5x3 matrix by a 3x2 matrix using matrix multiplication.\n",
        "- Multiply a 5x5 matrix by a 5x1 vector.\n",
        "\n",
        "**Exercise 5**\n",
        "- Create an array of 10 random numbers. Replace all the values less than 0.5 with 0."
      ],
      "metadata": {
        "id": "795txQ200QNb"
      }
    },
    {
      "cell_type": "code",
      "source": [],
      "metadata": {
        "id": "-myE0Qo5zzTE"
      },
      "execution_count": null,
      "outputs": []
    },
    {
      "cell_type": "markdown",
      "source": [
        "# Introduction to Pandas"
      ],
      "metadata": {
        "id": "IsS6rFVOzzxT"
      }
    },
    {
      "cell_type": "markdown",
      "source": [
        "In this exercise, you will learn to use the pandas module. Pandas is a Python package specialized in data manipulation.\n",
        "\n",
        "[For more information on pandas click here](http://pandas.pydata.org/)\n",
        "\n",
        "#### Required Skills\n",
        "\n",
        "- Basic programming knowledge\n",
        "- Lists\n",
        "- Linear algebra concepts\n",
        "- Introduction to NumPy\n",
        "\n",
        "#### Instructions\n",
        "\n",
        "The exercise consists of several questions, complete them in order.\n",
        "\n",
        "To begin, you need to import the `pandas` module under the abbreviated name `pd`. Therefore, execute this preamble cell. NumPy will also be used in this exercise.\n",
        "\n"
      ],
      "metadata": {
        "id": "8Gegjmsz2u0D"
      }
    },
    {
      "cell_type": "code",
      "source": [
        "# Importing necessary libraries\n",
        "import pandas as pd\n",
        "import numpy as np"
      ],
      "metadata": {
        "id": "IRfUcyiQ2vd-"
      },
      "execution_count": null,
      "outputs": []
    },
    {
      "cell_type": "markdown",
      "source": [
        "> A Series is a one-dimensional array with labels, that can hold any data type. The labels are referred to as the index. Its syntax is as follows: pd.Series(X) where X is a list or an array.\n",
        "- Create a Series of 5 data points from a random list of numbers distributed between 0 and 1."
      ],
      "metadata": {
        "id": "zUAalo7kdFK-"
      }
    },
    {
      "cell_type": "code",
      "source": [
        "## Insert your code here"
      ],
      "metadata": {
        "id": "y4ZXi1QTdJb8"
      },
      "execution_count": null,
      "outputs": []
    },
    {
      "cell_type": "markdown",
      "source": [
        "> It is possible to specify the indices using the following syntax: pd.Series(X, index = Y) where X is the data list and Y is a list of associated indices.\n",
        "- Create a Series of 4 data points, each with a value of 1, and specify the following list of indices: ['a', 'b', 'c', 'd']."
      ],
      "metadata": {
        "id": "xy-8Ur3OdK1R"
      }
    },
    {
      "cell_type": "code",
      "source": [
        "## Insert your code here"
      ],
      "metadata": {
        "id": "W4WBtDWkdaqz"
      },
      "execution_count": null,
      "outputs": []
    },
    {
      "cell_type": "markdown",
      "source": [
        "> By using indices, you can access the data in the Series in the same way you access elements in a list.\n",
        "\n",
        "Slicing is also possible.\n",
        "- Create a variable named series_one and assign it a Series created from a list of 4 random numbers distributed between 0 and 1.\n",
        "- Use the list of indices from the previous question: ['a', 'b', 'c', 'd'].\n",
        "- Retrieve the first element of series_one using the corresponding index."
      ],
      "metadata": {
        "id": "tgZswceydg9c"
      }
    },
    {
      "cell_type": "code",
      "source": [
        "## Insert your code here"
      ],
      "metadata": {
        "id": "a9NJrEaNduhb"
      },
      "execution_count": null,
      "outputs": []
    },
    {
      "cell_type": "markdown",
      "source": [
        "- Change the fourth data point of `series_un` to 0.\n",
        "- Display `series_un`."
      ],
      "metadata": {
        "id": "tUWqNk_kd3jl"
      }
    },
    {
      "cell_type": "code",
      "source": [
        "## Insert your code here"
      ],
      "metadata": {
        "id": "bqOanfROd7tr"
      },
      "execution_count": null,
      "outputs": []
    },
    {
      "cell_type": "markdown",
      "source": [
        "Python consistently returns a `dtype: float64` when calling the Series. This represents the data type, in this case floats, and their encoding, here on 64 bits. You can specify the data type you want to handle when creating a Series.\n",
        "\n",
        "Furthermore, you can name the Series using the `name` parameter.\n",
        "\n",
        "- Create a variable `series_two` from an array of four ones.\n",
        "- Specify the data type `dtype` as `int`.\n",
        "- Name this Series `my_series`.\n",
        "- Display the Series."
      ],
      "metadata": {
        "id": "FTcTc90Cd8cV"
      }
    },
    {
      "cell_type": "code",
      "source": [
        "## Insert your code here"
      ],
      "metadata": {
        "id": "rfY959wGeGr7"
      },
      "execution_count": null,
      "outputs": []
    },
    {
      "cell_type": "markdown",
      "source": [
        "The `describe()` function returns a variety of information about the Series it is applied to.\n",
        "\n",
        "- Create a variable `series_three` from an array of 20 random numbers uniformly distributed between 0 and 1.\n",
        "- Display information about the Series using `describe()`.\n"
      ],
      "metadata": {
        "id": "PNKXCGTceL0e"
      }
    },
    {
      "cell_type": "code",
      "source": [
        "## Insert your code here"
      ],
      "metadata": {
        "id": "yzfxfUh9eOIU"
      },
      "execution_count": null,
      "outputs": []
    },
    {
      "cell_type": "markdown",
      "source": [
        "It's possible to add Series together. Pandas will sum the data with matching *indices*. If an *index* is missing in one of the Series, the resulting sum Series will display `NaN` (Not a Number) at that index.\n",
        "\n",
        "- Create a Series `series_four` from an array of 19 random numbers uniformly distributed between 0 and 1.\n",
        "- Sum `series_three` and `series_four`."
      ],
      "metadata": {
        "id": "QtzE8a1SePyL"
      }
    },
    {
      "cell_type": "code",
      "source": [
        "## Insert your code here"
      ],
      "metadata": {
        "id": "Ov2FCuNWeYCV"
      },
      "execution_count": null,
      "outputs": []
    },
    {
      "cell_type": "markdown",
      "source": [
        "However, you can specify a particular value to use where the *indices* do not match during a summation. The following syntax is used:\n",
        "```\n",
        "## Assume a and b are two Series\n",
        "a.add(b, fill_value = 0)  ## we decide to replace with 0\n",
        "```\n",
        "\n",
        "- Sum `series_three` and `series_four` by specifying fill_value equal to 100."
      ],
      "metadata": {
        "id": "mNJ2fZ44eYd4"
      }
    },
    {
      "cell_type": "code",
      "source": [
        "## Insert your code here"
      ],
      "metadata": {
        "id": "9baF86eeefac"
      },
      "execution_count": null,
      "outputs": []
    },
    {
      "cell_type": "markdown",
      "source": [
        "Lastly, it's possible to use mathematical operators on Series. The following syntax is used:\n",
        "```\n",
        "# Assume a is a Series\n",
        "a[a >= 0.5]  ## returns the data from a greater than 0.5\n",
        "a * 2  ## multiplies the data from a by two\n",
        "```\n",
        "\n",
        "- Create a variable `a`, and assign it a Series of integer numbers uniformly distributed between 1 and 20, with a size of 20.\n",
        "- Display the Series with data strictly greater than 10."
      ],
      "metadata": {
        "id": "GwdPFtD0egED"
      }
    },
    {
      "cell_type": "code",
      "source": [
        "## Insert your code here"
      ],
      "metadata": {
        "id": "2AngWsJteoSc"
      },
      "execution_count": null,
      "outputs": []
    },
    {
      "cell_type": "markdown",
      "source": [
        "To conclude on the manipulation of Series, we propose the following instructions:\n",
        "\n",
        "- Create an *index* of size 20 that includes \"boy\" or \"girl\" randomly distributed.\n",
        "- Create an array of size 20 that displays ages ranging from 3 to 16 years, randomly distributed.\n",
        "- Create a Series `cousins` with `name = \"my cousins\"`, the index created previously, and data from the array.\n",
        "- Retrieve the Series of \"boys\" into a Series `boys` and the Series of \"girls\" into a variable `girls`.\n",
        "- Display information about these two Series.\n"
      ],
      "metadata": {
        "id": "WgRFU_qmeo7h"
      }
    },
    {
      "cell_type": "code",
      "source": [
        "## Insert your code here"
      ],
      "metadata": {
        "id": "xX3E0v0yfJL7"
      },
      "execution_count": null,
      "outputs": []
    },
    {
      "cell_type": "markdown",
      "source": [
        "Now we turn our attention to DataFrames. DataFrames are the two-dimensional extension of Series. Thus, the *indices* are shared among the columns of the DataFrame.\n",
        "\n",
        "A common way to create a DataFrame is by using a dictionary. The syntax is as follows:\n",
        "```\n",
        "pd.DataFrame({'Name of the first column': data, 'Name of the second column': data})\n",
        "```\n",
        "- Create a DataFrame data_one with two columns: 'Gender' and 'Age', using the data from the previous question.\n",
        "- Display the DataFrame."
      ],
      "metadata": {
        "id": "4KoD1X7ZfYGX"
      }
    },
    {
      "cell_type": "code",
      "source": [
        "## Insert your code here"
      ],
      "metadata": {
        "id": "13a135jrfYjz"
      },
      "execution_count": null,
      "outputs": []
    },
    {
      "cell_type": "markdown",
      "source": [
        "- Create a list *dominant_hand* of size 20 that contains \"left-handed\" or \"right-handed\" distributed randomly.\n",
        "- Add this list as a new column to *data_one*.\n",
        "  *Use the command `data_one['Dominant Hand'] = dominant_hand`*\n"
      ],
      "metadata": {
        "id": "OjcZjfXDf8AE"
      }
    },
    {
      "cell_type": "code",
      "source": [
        "## Insert your code here"
      ],
      "metadata": {
        "id": "tLzR35u6gCHl"
      },
      "execution_count": null,
      "outputs": []
    },
    {
      "cell_type": "markdown",
      "source": [
        "*Slicing* is possible with DataFrames.\n",
        "\n",
        "- Display the first 5 rows of *data_one*."
      ],
      "metadata": {
        "id": "vqW6_kc8gKhE"
      }
    },
    {
      "cell_type": "code",
      "source": [
        "## Insert your code here"
      ],
      "metadata": {
        "id": "uVkw5CJrgL57"
      },
      "execution_count": null,
      "outputs": []
    },
    {
      "cell_type": "markdown",
      "source": [
        "- Display the columns \"Gender\" and \"Dominant Hand\".\n"
      ],
      "metadata": {
        "id": "uWUpzA_YgWN-"
      }
    },
    {
      "cell_type": "markdown",
      "source": [
        "It is possible to concatenate two DataFrames using the command `pd.concat()`. The syntax is as follows:\n",
        "```\n",
        "# Assume X and Y are two DataFrames\n",
        "pd.concat([X,Y], axis = 0)  ## concatenates vertically\n",
        "pd.concat([X,Y], axis = 1)  ## concatenates horizontally\n",
        "```\n",
        "- Create a list of size 20 that includes \"red\", \"blue\", or \"green\" distributed randomly.\n",
        "- Create a DataFrame data_two from the previous list.\n",
        "- Add a name to the column using the command data_two.columns = ['Name of Column'].\n",
        "- Concatenate data_one and data_two into a new variable data_three.\n"
      ],
      "metadata": {
        "id": "m0D92LIRgR0y"
      }
    },
    {
      "cell_type": "code",
      "source": [
        "## Insert your code here"
      ],
      "metadata": {
        "id": "JiSwkgRignG7"
      },
      "execution_count": null,
      "outputs": []
    },
    {
      "cell_type": "markdown",
      "source": [
        "## **Open Exercise**\n",
        "We advice you to use pandas documentations or stackoverflow to find the answers of the following exercises .\n",
        "#### 1. Basic DataFrame Operations:\n",
        "\n",
        "- Create a DataFrame from a dictionary with keys: 'Name', 'Age', 'City' and populate it with some data.\n",
        "- Display the first 5 rows of the DataFrame.\n",
        "- Display the last 3 rows of the DataFrame.\n",
        "- Display the data types of each column.\n",
        "\n",
        "#### 2.Indexing and Selection:\n",
        "\n",
        "- Select the 'Name' and 'City' columns from the DataFrame.\n",
        "- Select the row at index 2 from the DataFrame.\n",
        "- Select the rows where 'Age' is greater than 25.\n",
        "\n",
        "#### 3. Sorting and Ranking:\n",
        "\n",
        "- Sort the DataFrame based on 'Age' in descending order.\n",
        "- Rank the DataFrame based on 'Age', with the oldest as rank 1.\n",
        "\n",
        "#### 4. Missing Data:\n",
        "\n",
        "- Introduce some missing values in the DataFrame using np.nan.\n",
        "- Fill the missing values with the mean of the non-missing values.\n",
        "- Drop the rows with missing values.\n",
        "\n",
        "#### 5.Grouping and Aggregation:\n",
        "\n",
        "- Group the DataFrame by 'City' and calculate the mean age for each city.\n",
        "- Find the maximum and minimum age for each city.\n",
        "\n",
        "#### 6.Merging, Joining, and Concatenating:\n",
        "\n",
        "- Create a second DataFrame with keys: 'Name', 'Job Title'.\n",
        "- Merge the two DataFrames on the 'Name' column.\n",
        "- Concatenate the two DataFrames vertically and then horizontally."
      ],
      "metadata": {
        "id": "mLsNSRsShgnX"
      }
    },
    {
      "cell_type": "code",
      "source": [
        "## Insert your code here"
      ],
      "metadata": {
        "id": "JyMcHO9Ah_yc"
      },
      "execution_count": null,
      "outputs": []
    }
  ]
}