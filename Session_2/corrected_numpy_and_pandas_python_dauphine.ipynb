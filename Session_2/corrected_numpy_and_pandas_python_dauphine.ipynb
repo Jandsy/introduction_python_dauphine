{
  "nbformat": 4,
  "nbformat_minor": 0,
  "metadata": {
    "colab": {
      "provenance": []
    },
    "kernelspec": {
      "name": "python3",
      "display_name": "Python 3"
    },
    "language_info": {
      "name": "python"
    }
  },
  "cells": [
    {
      "cell_type": "markdown",
      "source": [
        "<img src=\"https://dauphine.psl.eu/fileadmin/_processed_/9/2/csm_damier_logo_Dauphine_f7b37a1ff2.jpg\" width=\"200\" style=\"vertical-align:middle\" /> <h1>Master 222: Introduction to Python </h1>\n",
        "\n",
        "\n",
        "\n"
      ],
      "metadata": {
        "id": "9UOkwPFBZUaR"
      }
    },
    {
      "cell_type": "markdown",
      "source": [
        "[![Open In Colab](https://colab.research.google.com/assets/colab-badge.svg)](https://colab.research.google.com/github/jandsy/introduction_python_dauphine/blob/main/Session_2/corrected_numpy_and_pandas_python_dauphine.ipynb)\n"
      ],
      "metadata": {
        "id": "Uc_gjE9_jgBg"
      }
    },
    {
      "cell_type": "markdown",
      "source": [
        "# Remainders: Last Session\n",
        "## Exercice Temperature Data Analysis\n",
        "**Introduction**\n",
        "You're provided with a list of temperatures (in degrees Celsius) spanning over a week:\n",
        "``` python\n",
        "temperatures = [20.5, 22.3, 19.8, 21.6, 23.2, 18.9, 20.2]\n",
        "```\n",
        "Your task is to analyze this data by developing specific functions and then interpreting the results.\n",
        "\n",
        "**Functions to Develop**\n",
        "\n",
        "\n",
        "\n",
        "1.   Function `average_temp()`:\n",
        "\n",
        "*Input:* A list of temperatures.\n",
        "\n",
        "*Task:* Calculate the average temperature for the week.\n",
        "\n",
        "*Return:* The average temperature.\n",
        "\n",
        "2. Function `hot_days_count()`:\n",
        "\n",
        "*Input:* A list of temperatures.\n",
        "\n",
        "*Task:* Determine the number of days the temperature was above 21°C.\n",
        "\n",
        "*Return:* The count of days.\n",
        "\n",
        "3. Function `coldest_day()`:\n",
        "\n",
        "*Input:* A list of temperatures.\n",
        "\n",
        "*Task:* Identify the index of the coldest day (0 for Monday, 6 for Sunday).\n",
        "\n",
        "*Return:* The index of the day.\n",
        "\n",
        "**Display the Results**\n",
        "\n",
        "After you've developed and tested your functions, you should:\n",
        "\n",
        "- Print the average temperature of the week.\n",
        "- Print the number of days when the temperature was above 21°C.\n",
        "- Print the coldest day of the week based on the index (e.g., \"The coldest day was Wednesday...\").\n",
        "\n",
        "**Sample output**\n",
        "``` python\n",
        "The average temperature for the week is: 20.79°C.\n",
        "There were 3 days with a temperature above 21°C.\n",
        "The coldest day was Wednesday with a temperature of 18.9°C.\n",
        "```\n"
      ],
      "metadata": {
        "id": "R5QIyWQ8QtZ1"
      }
    },
    {
      "cell_type": "code",
      "source": [
        "## Insert your code here"
      ],
      "metadata": {
        "id": "JAip9uRER_Q3"
      },
      "execution_count": null,
      "outputs": []
    },
    {
      "cell_type": "markdown",
      "source": [
        "# Introduction to NumPy\n",
        "## Context and Objective\n",
        "\n",
        "Python is an almost indispensable programming language in the world of Quantitative finance. It's simple, open source, and increasingly popular.  \n",
        "In this exercise, you will learn to use the NumPy module. NumPy is a Python package specialized in the manipulation of arrays.  \n",
        "This exercise will only focus on one-dimensional arrays (vectors) and two-dimensional arrays (matrices).\n",
        "\n",
        "[For more information on NumPy](http://www.numpy.org/)\n",
        "\n",
        "## Prerequisite Skills\n",
        "\n",
        "- Basic programming concepts\n",
        "- Lists\n",
        "- Basic linear algebra concepts\n",
        "\n",
        "## Instructions\n",
        "\n",
        "The exercise is composed of several questions; please answer them in order.\n",
        "\n",
        "To begin, you need to import the `numpy` module using the alias `np`. Execute the following preamble cell:\n",
        "\n"
      ],
      "metadata": {
        "id": "wAriYIftuAcc"
      }
    },
    {
      "cell_type": "code",
      "source": [
        "import numpy as np"
      ],
      "metadata": {
        "id": "FhkVIupot_Ms"
      },
      "execution_count": null,
      "outputs": []
    },
    {
      "cell_type": "markdown",
      "source": [
        "In Python, an array is an ordered collection of values, which can be of any type, not **only numbers**.\n",
        "\n",
        "The `array()` method allows you to define a **one-dimensional array** from a list. Given `X` as a list of values, you can use the command `np.array(X)` to transform the list into a one-dimensional array.\n",
        "\n",
        "* Create an array from the list `[1,1,1,1]`"
      ],
      "metadata": {
        "id": "cCWtCwZRuaH-"
      }
    },
    {
      "cell_type": "code",
      "source": [
        "## Insert your code here\n",
        "my_array = np.array([1,1,1,1])"
      ],
      "metadata": {
        "id": "5HvkPTe2uIz0"
      },
      "execution_count": null,
      "outputs": []
    },
    {
      "cell_type": "markdown",
      "source": [
        "There are commands to inquire about the variables we are manipulating. Here's a table summarizing these commands:\n",
        "\n",
        "| Command    | Effect                                         | Example                     |\n",
        "|------------|------------------------------------------------|-----------------------------|\n",
        "| type(X)    | Returns the type of the variable X            | type(2) returns `<class 'int'>`      |\n",
        "| np.shape(X)| Returns the dimension of the variable X       | np.shape([1,2]) returns (2,) |\n",
        "\n",
        "By default, Numpy creates one-dimensional arrays from lists. If you want a different dimension, you should specify it using the command `np.reshape(X, new_shape)` where `X` is the array whose dimensions you want to change.\n",
        "\n",
        "* Create a variable *a* and assign to it an array with the list [1,2,3,4,5]\n",
        "* Verify that its dimension is indeed (5,)"
      ],
      "metadata": {
        "id": "oI0_wcMeucbH"
      }
    },
    {
      "cell_type": "code",
      "source": [
        "## Insert your code here\n",
        "a = np.array([1,2,3,4,5])\n",
        "print(np.shape(a))\n"
      ],
      "metadata": {
        "id": "e9tap3Ocupx3",
        "outputId": "b8b43de6-7ceb-484f-e566-51154b2f12f2",
        "colab": {
          "base_uri": "https://localhost:8080/"
        }
      },
      "execution_count": null,
      "outputs": [
        {
          "output_type": "stream",
          "name": "stdout",
          "text": [
            "(5,)\n"
          ]
        }
      ]
    },
    {
      "cell_type": "markdown",
      "source": [
        "Now that we've seen how to get information about arrays, we'd like to create some. There are various commands to generate one-dimensional arrays. Here's a table summarizing them:\n",
        "\n",
        "| Command               | Meaning                                                        | Example                                    |\n",
        "|-----------------------|----------------------------------------------------------------|--------------------------------------------|\n",
        "| np.ones(n)            | Returns an array of dimension (n,) of 1s                        | np.ones(5) returns array([1, 1, 1, 1, 1])  |\n",
        "| np.zeros(n)           | Returns an array of dimension (n,) of 0s                        | np.zeros(5) returns array([0, 0, 0, 0, 0]) |\n",
        "| np.arange(n)          | Returns an array of dim(n,) of ordered numbers from 0 to n-1    | np.arange(5) returns array([0, 1, 2, 3, 4])|\n",
        "| np.linspace(a,b,n)    | Returns an array of dim(n,) of n numbers evenly spaced between a and b | np.linspace(0,5,5) returns array([0, 1.25, 2.5, 3.75, 5.0])|\n",
        "| np.linspace(a,b)      | Returns an array of dim(50,) of 50 numbers evenly spaced between a and b |                                            |\n",
        "| np.concatenate((X,Y)) | Returns an array of dim(dimX+dimY,) resulting from the assembly of X and Y | np.concatenate((array([1]),array([0]))) returns array([1,0])|\n",
        "\n",
        "- Create 3 variables a, b, c\n",
        "- Assign to a an array with 5 zeros\n",
        "- Assign to b an array with 5 ones\n",
        "- Assign to c an array of size 10 containing 5 zeros followed by 5 ones, arranged judiciously.\n"
      ],
      "metadata": {
        "id": "8mLHt8rMuqdB"
      }
    },
    {
      "cell_type": "code",
      "source": [
        "## Insert your code here\n",
        "a, b = np.zeros(5), np.ones(5)\n",
        "c = np.concatenate((a,b))\n",
        "print('a is ', a)\n",
        "print('b is ', b)\n",
        "print('c is ', c)"
      ],
      "metadata": {
        "id": "LKjtoLTSvDN8",
        "outputId": "4ac88db0-0d68-4e18-d4e7-a97ad749d3c4",
        "colab": {
          "base_uri": "https://localhost:8080/"
        }
      },
      "execution_count": null,
      "outputs": [
        {
          "output_type": "stream",
          "name": "stdout",
          "text": [
            "a is  [0. 0. 0. 0. 0.]\n",
            "b is  [1. 1. 1. 1. 1.]\n",
            "c is  [0. 0. 0. 0. 0. 1. 1. 1. 1. 1.]\n"
          ]
        }
      ]
    },
    {
      "cell_type": "markdown",
      "source": [
        "- Generate two arrays of ordered numbers from 0 to 10 (thus of size 11) using different commands.\n",
        "- Display them."
      ],
      "metadata": {
        "id": "5ph-wtdfvP4W"
      }
    },
    {
      "cell_type": "code",
      "source": [
        "## Insert your code here\n",
        "first_array = np.arange(11)\n",
        "second_array = np.linspace(0,10, 11)\n",
        "print('using np.arrange :', first_array)\n",
        "print('using np.linspace :', second_array)"
      ],
      "metadata": {
        "id": "0xZnIuCFvQLx",
        "outputId": "0dbfe197-1e17-4443-edbb-6158eeaa7d4d",
        "colab": {
          "base_uri": "https://localhost:8080/"
        }
      },
      "execution_count": null,
      "outputs": [
        {
          "output_type": "stream",
          "name": "stdout",
          "text": [
            "using np.arrange : [ 0  1  2  3  4  5  6  7  8  9 10]\n",
            "using np.linspace : [ 0.  1.  2.  3.  4.  5.  6.  7.  8.  9. 10.]\n"
          ]
        }
      ]
    },
    {
      "cell_type": "markdown",
      "source": [
        "- Create a list `c` with numbers ranging from 0 to 10 **A list, not an array**. Use the following syntax: `list(range())`.\n",
        "- Add 5 to all the terms in `c`. *You may need to change the type of c*.\n",
        "- Display `c`.\n"
      ],
      "metadata": {
        "id": "lK7yW4_XvRpX"
      }
    },
    {
      "cell_type": "code",
      "source": [
        "## Insert your code here\n",
        "c = list(range(11))\n",
        "c = np.array(c) + 5\n",
        "print(c)"
      ],
      "metadata": {
        "id": "DaOh7T6cvcSl",
        "outputId": "19616ea4-27fe-4535-9dce-2b4bc97646cf",
        "colab": {
          "base_uri": "https://localhost:8080/"
        }
      },
      "execution_count": null,
      "outputs": [
        {
          "output_type": "stream",
          "name": "stdout",
          "text": [
            "[ 5  6  7  8  9 10 11 12 13 14 15]\n"
          ]
        }
      ]
    },
    {
      "cell_type": "markdown",
      "source": [
        "We can perform similar operations with matrices, which are 2-dimensional arrays.\n",
        "\n",
        "Thus, `np.ones((n, p))` returns an `NxP` matrix filled with ones, `np.zeros((n, p))` returns an `NxP` matrix filled with zeros.\n",
        "\n",
        "`np.diag(v)` returns a matrix whose diagonal consists of the vector v. Moreover, `np.diag(v, k)` returns a matrix where the k-th diagonal consists of the vector v. k can be positive or negative; if k is positive, the shift is to the \"right,\" otherwise to the left.\n",
        "\n",
        "- Create a matrix *mat* of size 5x5 with 1s on the diagonal.\n",
        "- Display it."
      ],
      "metadata": {
        "id": "ykfObg7bvdHc"
      }
    },
    {
      "cell_type": "code",
      "source": [
        "## Insert your code here\n",
        "mat = np.diag(np.ones(5))\n",
        "print(mat)"
      ],
      "metadata": {
        "id": "3c0YqbgbvwcP",
        "outputId": "4df0af4c-b52d-4b8f-a09d-a5f662e44c86",
        "colab": {
          "base_uri": "https://localhost:8080/"
        }
      },
      "execution_count": null,
      "outputs": [
        {
          "output_type": "stream",
          "name": "stdout",
          "text": [
            "[[1. 0. 0. 0. 0.]\n",
            " [0. 1. 0. 0. 0.]\n",
            " [0. 0. 1. 0. 0.]\n",
            " [0. 0. 0. 1. 0.]\n",
            " [0. 0. 0. 0. 1.]]\n"
          ]
        }
      ]
    },
    {
      "cell_type": "markdown",
      "source": [
        "We can use mathematical operators **+**, **-**, on arrays provided that the mathematical operation makes sense.\n",
        "\n",
        "**Caution: If you use the operators '\\*' or '/' you will only perform a term-by-term operation**\n",
        "- Create a 6x6 matrix with 1s on the diagonal and on the sub-diagonal using a mathematical operator.\n",
        "- Display it.\n",
        "\n"
      ],
      "metadata": {
        "id": "SD0F7LOSv5GH"
      }
    },
    {
      "cell_type": "code",
      "source": [
        "## Insert your code here\n",
        "mat_a = np.diag(np.ones(6))\n",
        "mat_b = np.diag(np.ones(5), - 1)\n",
        "print(mat_a + mat_b)"
      ],
      "metadata": {
        "id": "f3sQ2gCev5bB",
        "outputId": "cbe5f125-e769-4a47-8e4d-294c9db1b88d",
        "colab": {
          "base_uri": "https://localhost:8080/"
        }
      },
      "execution_count": null,
      "outputs": [
        {
          "output_type": "stream",
          "name": "stdout",
          "text": [
            "[[1. 0. 0. 0. 0. 0.]\n",
            " [1. 1. 0. 0. 0. 0.]\n",
            " [0. 1. 1. 0. 0. 0.]\n",
            " [0. 0. 1. 1. 0. 0.]\n",
            " [0. 0. 0. 1. 1. 0.]\n",
            " [0. 0. 0. 0. 1. 1.]]\n"
          ]
        }
      ]
    },
    {
      "cell_type": "markdown",
      "source": [
        "Accessing specific elements of an array is done similarly to lists. If the array is two-dimensional, two parameters are needed.\n",
        "\n",
        "*For example*: let X be a two-dimensional array, `X[0, 0]` returns the element located at row 1, column 1. `X[:, 0]` returns the first column. `X[0:3, 0]` returns the first three rows of the first column. This method is referred to as *slicing* in programming.\n",
        "\n",
        "- Create this matrix using `np.ones()`, `np.diag()` and slicing:\n",
        "$$\n",
        "\\begin{pmatrix}\n",
        "5 & 0 & 0 & 0 \\\\\n",
        "5 & 1 & 0 & 0 \\\\\n",
        "4 & 4 & 4 & 4 \\\\\n",
        "5 & 0 & 0 & 1\n",
        "\\end{pmatrix}\n",
        "$$"
      ],
      "metadata": {
        "id": "uZa1ER-mwIFN"
      }
    },
    {
      "cell_type": "code",
      "source": [
        "## Insert your code here\n",
        "mat = np.diag(np.ones(4))\n",
        "mat[:, 0] = 5\n",
        "mat[2, :] = 4\n",
        "print(mat)"
      ],
      "metadata": {
        "id": "ax8kpF2uwIcL",
        "outputId": "301447d0-7662-4511-9864-0a2569b2a3f7",
        "colab": {
          "base_uri": "https://localhost:8080/"
        }
      },
      "execution_count": null,
      "outputs": [
        {
          "output_type": "stream",
          "name": "stdout",
          "text": [
            "[[5. 0. 0. 0.]\n",
            " [5. 1. 0. 0.]\n",
            " [4. 4. 4. 4.]\n",
            " [5. 0. 0. 1.]]\n"
          ]
        }
      ]
    },
    {
      "cell_type": "markdown",
      "source": [
        "With the Numpy module, you can create random numbers uniformly distributed between 0 and 1. The syntax is as follows: `np.random.rand()` to return a single draw, `np.random.rand(n)` to return a row array of n draws, and `np.random.rand(n, p)` to return an NxP matrix of uniformly distributed random draws.\n",
        "\n",
        "- Display a random number distributed between 0 and 1\n"
      ],
      "metadata": {
        "id": "plIvwEMSwX5f"
      }
    },
    {
      "cell_type": "code",
      "source": [
        "## Insert your code here\n",
        "np.random.rand()"
      ],
      "metadata": {
        "id": "y5GdVrK4wYRK",
        "outputId": "592811fe-1801-421c-cde8-3bc4d6d53a6d",
        "colab": {
          "base_uri": "https://localhost:8080/"
        }
      },
      "execution_count": null,
      "outputs": [
        {
          "output_type": "execute_result",
          "data": {
            "text/plain": [
              "0.4471196989302014"
            ]
          },
          "metadata": {},
          "execution_count": 16
        }
      ]
    },
    {
      "cell_type": "markdown",
      "source": [
        "- Display a 5x5 matrix of random numbers distributed between 0 and 1"
      ],
      "metadata": {
        "id": "VCOAFkRdwhc7"
      }
    },
    {
      "cell_type": "code",
      "source": [
        "## Insert your code here\n",
        "np.random.rand(5,5)"
      ],
      "metadata": {
        "id": "Xc4a4v_6wjMQ",
        "outputId": "c9874392-3ac7-45f0-8cfe-3ba963f02c59",
        "colab": {
          "base_uri": "https://localhost:8080/"
        }
      },
      "execution_count": null,
      "outputs": [
        {
          "output_type": "execute_result",
          "data": {
            "text/plain": [
              "array([[0.7331281 , 0.5465886 , 0.36921581, 0.70896865, 0.56728667],\n",
              "       [0.85963742, 0.40430734, 0.40035497, 0.04469544, 0.0700531 ],\n",
              "       [0.54181488, 0.43955629, 0.41156646, 0.816314  , 0.41886596],\n",
              "       [0.92554736, 0.96303696, 0.2489124 , 0.9898183 , 0.21163568],\n",
              "       [0.76501586, 0.76357927, 0.8697321 , 0.07801873, 0.81927001]])"
            ]
          },
          "metadata": {},
          "execution_count": 17
        }
      ]
    },
    {
      "cell_type": "markdown",
      "source": [
        "- Write a function `random_number()` that takes two integer parameters and returns a random number uniformly distributed between the two integers.\n",
        "- Call the function `random_number(10, 15)`\n",
        "\n",
        "*Note: If $X \\sim U[0,1]$, then $Y := (b-a)X + a \\sim U[a,b]$*\n",
        "\n"
      ],
      "metadata": {
        "id": "a9QT6fSBwwO_"
      }
    },
    {
      "cell_type": "code",
      "source": [
        "## Insert your code here\n",
        "def random_number(a, b):\n",
        "    return (b-a)*np.random.rand() + a\n",
        "\n",
        "random_number(10, 15)"
      ],
      "metadata": {
        "id": "rh8NDNuVww7T",
        "outputId": "ab564742-53df-4399-c6e7-5dac0993d21c",
        "colab": {
          "base_uri": "https://localhost:8080/"
        }
      },
      "execution_count": null,
      "outputs": [
        {
          "output_type": "execute_result",
          "data": {
            "text/plain": [
              "14.271702935970222"
            ]
          },
          "metadata": {},
          "execution_count": 18
        }
      ]
    },
    {
      "cell_type": "markdown",
      "source": [
        "- Write a function `random_matrix()` that takes an integer parameter N and returns a NxN matrix with 1s everywhere except on the diagonal where there are numbers uniformly distributed between 0 and 1.\n",
        "- Test for N=3 and N=5\n",
        "\n",
        "> Example: `random_matrix(3)` should return a matrix similar to\n",
        "$$\n",
        "\\begin{pmatrix}\n",
        "0.62678954 & 1 & 1 \\\\\n",
        "1 & 0.94077299 & 1 \\\\\n",
        "1 & 1 & 0.29263003 \\\\\n",
        "\\end{pmatrix}\n",
        "$$"
      ],
      "metadata": {
        "id": "rlN_d71TxBUk"
      }
    },
    {
      "cell_type": "code",
      "source": [
        "## Insert your code here\n",
        "def random_matrix(N):\n",
        "    mat_1 = np.ones((N,N))\n",
        "    mat_2 = np.diag(np.random.rand(N))\n",
        "    return mat_1 - mat_2\n",
        "\n",
        "random_matrix(3)"
      ],
      "metadata": {
        "id": "MrT8b64qxBnW",
        "outputId": "307239c6-eec9-44f6-9b78-90f0c70685c1",
        "colab": {
          "base_uri": "https://localhost:8080/"
        }
      },
      "execution_count": null,
      "outputs": [
        {
          "output_type": "execute_result",
          "data": {
            "text/plain": [
              "array([[0.30909679, 1.        , 1.        ],\n",
              "       [1.        , 0.24363663, 1.        ],\n",
              "       [1.        , 1.        , 0.03332141]])"
            ]
          },
          "metadata": {},
          "execution_count": 20
        }
      ]
    },
    {
      "cell_type": "markdown",
      "source": [
        "- In NumPy, operations can be performed between arrays and scalars.\n",
        "> Example:\n",
        "```\n",
        "a = np.array([1, 2, 3])\n",
        "a * 4 returns array([4, 8, 12])\n",
        "a + 2 returns array([3, 4, 5])\n",
        "```\n",
        "\n",
        "- Create a matrix mat_one of size 5x5 with fives on the diagonal\n",
        "- Create two matrices mat_two and mat_two_bis of size 5x5 with twos everywhere, in two different ways\n",
        "- Display the matrices"
      ],
      "metadata": {
        "id": "cO7U9vCJxVPm"
      }
    },
    {
      "cell_type": "code",
      "source": [
        "## Insert your code here\n",
        "mat_one = np.ones((5,5))\n",
        "mat_two = 2*mat_one\n",
        "mat_two_bis = np.zeros((5,5))\n",
        "mat_two_bis[:,:] = 2\n",
        "print(mat_one)\n",
        "print(mat_two)\n",
        "print(mat_two_bis)"
      ],
      "metadata": {
        "id": "grSn88lWxprc",
        "outputId": "eea90502-aac2-4b1c-cdf4-86cca7f3fc8f",
        "colab": {
          "base_uri": "https://localhost:8080/"
        }
      },
      "execution_count": null,
      "outputs": [
        {
          "output_type": "stream",
          "name": "stdout",
          "text": [
            "[[1. 1. 1. 1. 1.]\n",
            " [1. 1. 1. 1. 1.]\n",
            " [1. 1. 1. 1. 1.]\n",
            " [1. 1. 1. 1. 1.]\n",
            " [1. 1. 1. 1. 1.]]\n",
            "[[2. 2. 2. 2. 2.]\n",
            " [2. 2. 2. 2. 2.]\n",
            " [2. 2. 2. 2. 2.]\n",
            " [2. 2. 2. 2. 2.]\n",
            " [2. 2. 2. 2. 2.]]\n",
            "[[2. 2. 2. 2. 2.]\n",
            " [2. 2. 2. 2. 2.]\n",
            " [2. 2. 2. 2. 2.]\n",
            " [2. 2. 2. 2. 2.]\n",
            " [2. 2. 2. 2. 2.]]\n"
          ]
        }
      ]
    },
    {
      "cell_type": "markdown",
      "source": [
        "In NumPy, operations between arrays are performed element-wise by default.\n",
        "\n",
        "> Example:\n",
        "```\n",
        "a = np.array([1, 2, 3])\n",
        "b = np.array([4, 5, 6])\n",
        "a * b returns array([4, 10, 18])\n",
        "```\n",
        "\n",
        "To perform matrix multiplication in the mathematical sense, the following syntax is used: np.dot(X,Y)\n",
        "\n",
        "If the dimensions are incompatible, errors are triggered.\n",
        "\n",
        "\n",
        "\n",
        "- Create a matrix `mat_one` of size 5x5 with random numbers.\n",
        "- Create a matrix `mat_two` of size 5x5 with ones everywhere.\n",
        "- Create a matrix `mat_three` and assign to it the element-wise product between `mat_one` and `mat_two`\n",
        "- Create a matrix mat_four and assign to it the matrix product between `mat_one` and `mat_two`\n",
        "- Display `mat_three` and `mat_four`"
      ],
      "metadata": {
        "id": "DFBP4YlVxp4u"
      }
    },
    {
      "cell_type": "code",
      "source": [
        "## Insert your code here\n",
        "mat_one = np.random.rand(5,5)\n",
        "mat_two = np.ones((5,5))\n",
        "mat_three = mat_one*mat_two\n",
        "mat_four = np.dot(mat_one, mat_two)\n",
        "\n",
        "print('mat_three:', mat_three)\n",
        "print('mat_four:', mat_four)"
      ],
      "metadata": {
        "id": "KVPRPiaNyEJf",
        "outputId": "08c2572c-0d5e-4c66-e4cf-d04cab86bee1",
        "colab": {
          "base_uri": "https://localhost:8080/"
        }
      },
      "execution_count": null,
      "outputs": [
        {
          "output_type": "stream",
          "name": "stdout",
          "text": [
            "mat_three: [[0.86471915 0.94851745 0.19368994 0.70559777 0.58474969]\n",
            " [0.71729448 0.6024622  0.23729999 0.71576877 0.57123371]\n",
            " [0.35111984 0.00103395 0.70986055 0.05997593 0.67626518]\n",
            " [0.77126035 0.37421595 0.81789305 0.33697101 0.23954339]\n",
            " [0.83879631 0.59120295 0.34627217 0.27050175 0.47865704]]\n",
            "mat_four: [[3.29727401 3.29727401 3.29727401 3.29727401 3.29727401]\n",
            " [2.84405916 2.84405916 2.84405916 2.84405916 2.84405916]\n",
            " [1.79825546 1.79825546 1.79825546 1.79825546 1.79825546]\n",
            " [2.53988375 2.53988375 2.53988375 2.53988375 2.53988375]\n",
            " [2.52543022 2.52543022 2.52543022 2.52543022 2.52543022]]\n"
          ]
        }
      ]
    },
    {
      "cell_type": "markdown",
      "source": [
        "\n",
        "- Create a matrix `a` with dimensions 5x2 with arbitrary values\n",
        "- Create another matrix `b` with dimensions 2x5 with arbitrary values\n",
        "- Return the meaningful product of the two matrices here\n",
        "\n"
      ],
      "metadata": {
        "id": "IO3vv39XyEe1"
      }
    },
    {
      "cell_type": "code",
      "source": [
        "## Insert your code here\n",
        "a = np.random.rand(5,2)\n",
        "b = np.random.rand(2, 5)\n",
        "print(np.dot(a,b))"
      ],
      "metadata": {
        "id": "LFlSHwHuyNXF",
        "outputId": "ba097f78-bab8-46f6-cc3d-1dfb6cbbfddb",
        "colab": {
          "base_uri": "https://localhost:8080/"
        }
      },
      "execution_count": null,
      "outputs": [
        {
          "output_type": "stream",
          "name": "stdout",
          "text": [
            "[[0.51620165 0.20602091 0.19899608 0.44107435 0.31266037]\n",
            " [0.40484983 0.19542903 0.21518839 0.295991   0.29675906]\n",
            " [1.36863879 0.7606343  0.90205718 0.8531536  1.1554461 ]\n",
            " [0.58174415 0.34404615 0.41963797 0.33204403 0.52270151]\n",
            " [1.21070998 0.64382419 0.74724998 0.79754863 0.97789836]]\n"
          ]
        }
      ]
    },
    {
      "cell_type": "markdown",
      "source": [
        "The use of logical operators is possible via NumPy.\n",
        "\n",
        "- Create two matrices *mat_one* and *mat_two* of size 5x5 with random values.\n",
        "- Using the operator `*` and the logical operator '`==`', return a 5x5 matrix of True.\n",
        "- Using matrix multiplication and the logical operator '`==`', return a 5x5 matrix of False.\n"
      ],
      "metadata": {
        "id": "j7LF_8uryNof"
      }
    },
    {
      "cell_type": "code",
      "source": [
        "## Insert your code here\n",
        "mat_one, mat_two = np.random.rand(5,5), np.random.rand(5,5)\n",
        "print(0*mat_one == 0*mat_two)\n",
        "print(mat_one == mat_two)"
      ],
      "metadata": {
        "id": "dCDkfbx5yafK",
        "outputId": "c6ce02c1-8b4f-4205-8e94-ec1fb915387d",
        "colab": {
          "base_uri": "https://localhost:8080/"
        }
      },
      "execution_count": null,
      "outputs": [
        {
          "output_type": "stream",
          "name": "stdout",
          "text": [
            "[[ True  True  True  True  True]\n",
            " [ True  True  True  True  True]\n",
            " [ True  True  True  True  True]\n",
            " [ True  True  True  True  True]\n",
            " [ True  True  True  True  True]]\n",
            "[[False False False False False]\n",
            " [False False False False False]\n",
            " [False False False False False]\n",
            " [False False False False False]\n",
            " [False False False False False]]\n"
          ]
        }
      ]
    },
    {
      "cell_type": "markdown",
      "source": [
        "Lastly, it is possible to analyze data with NumPy. Here are some functions summarized:\n",
        "\n",
        "| Command   | Meaning                 |\n",
        "|-----------|-------------------------|\n",
        "| np.mean(X) | returns the mean of X   |\n",
        "| np.var(X)  | returns the variance of X|\n",
        "| np.std(X)  | returns the standard deviation of X |\n",
        "| X.sum()  | sums the elements of X   |\n",
        "| X.prod() | multiplies the elements of X |\n",
        "| X.min()  | returns the minimum of X |\n",
        "| X.max()  | returns the maximum of X |\n",
        "\n",
        "Furthermore, when working with matrices, it's possible to specify a second argument or a parameter to clarify where we are working. For example:\n",
        "\n",
        "```\n",
        "mat = np.random.rand(5, 5)\n",
        "np.mean(mat, axis = 0)  ## returns the mean of the rows\n",
        "np.mean(mat, axis = 1) ## returns the mean of the columns\n",
        "mat.sum(axis = 0) ## returns the sum of the rows\n",
        "```\n",
        "- Verify that the mean of a uniformly distributed law on [0,1] is close to 0.5 for a large number of draws.\n",
        "\n",
        "**Note:**\n",
        "\n",
        "*As the number of draws increases, the mean value of the uniformly distributed random values should converge to 0.5 according to the Law of Large Numbers.*"
      ],
      "metadata": {
        "id": "n9L03pA6yawX"
      }
    },
    {
      "cell_type": "code",
      "source": [
        "## Insert your code here\n",
        "n = 100000\n",
        "np.mean(np.random.rand(n))"
      ],
      "metadata": {
        "id": "6-bGhu1qy4hT",
        "outputId": "e4b883fa-5672-4801-b7ae-0ee0ef1ca121",
        "colab": {
          "base_uri": "https://localhost:8080/"
        }
      },
      "execution_count": null,
      "outputs": [
        {
          "output_type": "execute_result",
          "data": {
            "text/plain": [
              "0.5010119449037621"
            ]
          },
          "metadata": {},
          "execution_count": 26
        }
      ]
    },
    {
      "cell_type": "markdown",
      "source": [
        "- Calculate this product using only Numpy methods, display the result\n",
        "\n",
        "$$\n",
        "\\frac{\\pi}2=\\prod_{n=1}^{\\infty}\\frac{4n^2}{4n^2-1}\n",
        "$$\n",
        "\n",
        "- Compare using `np.math.pi`\n",
        "\n",
        "---"
      ],
      "metadata": {
        "id": "aOl281MZy43-"
      }
    },
    {
      "cell_type": "code",
      "source": [
        "## Insert your code here\n",
        "n = 10000\n",
        "print(np.prod((4*np.linspace(1, n, n)*np.linspace(1, n, n))/(4*np.linspace(1, n, n)*np.linspace(1, n, n) - 1)))\n",
        "print(np.math.pi/2)"
      ],
      "metadata": {
        "id": "U2CKFcRtzzOs",
        "outputId": "8f36b9e6-fb74-4919-9386-bed2673939b7",
        "colab": {
          "base_uri": "https://localhost:8080/"
        }
      },
      "execution_count": null,
      "outputs": [
        {
          "output_type": "stream",
          "name": "stdout",
          "text": [
            "1.5707570593409783\n",
            "1.5707963267948966\n"
          ]
        }
      ]
    },
    {
      "cell_type": "markdown",
      "source": [
        "## To go further..\n",
        "\n",
        "**Exercise 1:**\n",
        "- Create an array of 10 zeros.\n",
        "- Create an array of 10 ones.\n",
        "- Create an array of 10 fives.\n",
        "- Create an array of the integers from 10 to 50.\n",
        "\n",
        "**Exercise 2:**\n",
        "- Create an array of all even integers from 10 to 50.\n",
        "- Create a 3x3 matrix with values ranging from 0 to 8.\n",
        "- Create a 3x3 identity matrix.\n",
        "- Use indexing to replace the top row of the matrix from Exercise 2 with 9s.\n",
        "\n",
        "**Exercise 3**\n",
        "- Generate a random array of size 25. Find its mean.\n",
        "- Generate a random matrix of size 5x5. Find the sum of all the elements, the sum of the columns, and the sum of the rows.\n",
        "\n",
        "**Exercise 4**\n",
        "- Multiply a 5x3 matrix by a 3x2 matrix using matrix multiplication.\n",
        "- Multiply a 5x5 matrix by a 5x1 vector.\n",
        "\n",
        "**Exercise 5**\n",
        "- Create an array of 10 random numbers. Replace all the values less than 0.5 with 0."
      ],
      "metadata": {
        "id": "795txQ200QNb"
      }
    },
    {
      "cell_type": "code",
      "source": [],
      "metadata": {
        "id": "-myE0Qo5zzTE"
      },
      "execution_count": null,
      "outputs": []
    },
    {
      "cell_type": "markdown",
      "source": [
        "# Introduction to Pandas"
      ],
      "metadata": {
        "id": "IsS6rFVOzzxT"
      }
    },
    {
      "cell_type": "markdown",
      "source": [
        "In this exercise, you will learn to use the pandas module. Pandas is a Python package specialized in data manipulation.\n",
        "\n",
        "[For more information on pandas click here](http://pandas.pydata.org/)\n",
        "\n",
        "#### Required Skills\n",
        "\n",
        "- Basic programming knowledge\n",
        "- Lists\n",
        "- Linear algebra concepts\n",
        "- Introduction to NumPy\n",
        "\n",
        "#### Instructions\n",
        "\n",
        "The exercise consists of several questions, complete them in order.\n",
        "\n",
        "To begin, you need to import the `pandas` module under the abbreviated name `pd`. Therefore, execute this preamble cell. NumPy will also be used in this exercise.\n",
        "\n"
      ],
      "metadata": {
        "id": "8Gegjmsz2u0D"
      }
    },
    {
      "cell_type": "code",
      "source": [
        "# Importing necessary libraries\n",
        "import pandas as pd\n",
        "import numpy as np"
      ],
      "metadata": {
        "id": "IRfUcyiQ2vd-"
      },
      "execution_count": null,
      "outputs": []
    },
    {
      "cell_type": "markdown",
      "source": [
        "> A Series is a one-dimensional array with labels, that can hold any data type. The labels are referred to as the index. Its syntax is as follows: pd.Series(X) where X is a list or an array.\n",
        "- Create a Series of 5 data points from a random list of numbers distributed between 0 and 1."
      ],
      "metadata": {
        "id": "zUAalo7kdFK-"
      }
    },
    {
      "cell_type": "code",
      "source": [
        "## Insert your code here\n",
        "pd.Series(np.random.rand(5))"
      ],
      "metadata": {
        "id": "y4ZXi1QTdJb8",
        "outputId": "eab8eecd-2840-4b78-a2ef-665c1483cab4",
        "colab": {
          "base_uri": "https://localhost:8080/"
        }
      },
      "execution_count": null,
      "outputs": [
        {
          "output_type": "execute_result",
          "data": {
            "text/plain": [
              "0    0.275694\n",
              "1    0.082329\n",
              "2    0.507153\n",
              "3    0.311576\n",
              "4    0.649334\n",
              "dtype: float64"
            ]
          },
          "metadata": {},
          "execution_count": 33
        }
      ]
    },
    {
      "cell_type": "markdown",
      "source": [
        "> It is possible to specify the indices using the following syntax: pd.Series(X, index = Y) where X is the data list and Y is a list of associated indices.\n",
        "- Create a Series of 4 data points, each with a value of 1, and specify the following list of indices: ['a', 'b', 'c', 'd']."
      ],
      "metadata": {
        "id": "xy-8Ur3OdK1R"
      }
    },
    {
      "cell_type": "code",
      "source": [
        "## Insert your code here\n",
        "pd.Series(np.ones(4), index = ['a', 'b', 'c', 'd'])\n"
      ],
      "metadata": {
        "id": "W4WBtDWkdaqz",
        "outputId": "eac72a7a-a810-4a5e-d78d-b14ccba06237",
        "colab": {
          "base_uri": "https://localhost:8080/"
        }
      },
      "execution_count": null,
      "outputs": [
        {
          "output_type": "execute_result",
          "data": {
            "text/plain": [
              "a    1.0\n",
              "b    1.0\n",
              "c    1.0\n",
              "d    1.0\n",
              "dtype: float64"
            ]
          },
          "metadata": {},
          "execution_count": 34
        }
      ]
    },
    {
      "cell_type": "markdown",
      "source": [
        "> By using indices, you can access the data in the Series in the same way you access elements in a list.\n",
        "\n",
        "Slicing is also possible.\n",
        "- Create a variable named series_one and assign it a Series created from a list of 4 random numbers distributed between 0 and 1.\n",
        "- Use the list of indices from the previous question: ['a', 'b', 'c', 'd'].\n",
        "- Retrieve the first element of series_one using the corresponding index."
      ],
      "metadata": {
        "id": "tgZswceydg9c"
      }
    },
    {
      "cell_type": "code",
      "source": [
        "## Insert your code here\n",
        "series_one = pd.Series(np.random.rand(4), index = ['a', 'b', 'c', 'd'])\n",
        "print(series_one['a'])"
      ],
      "metadata": {
        "id": "a9NJrEaNduhb",
        "outputId": "1e90d109-6022-42e8-dd4d-f1cfff259654",
        "colab": {
          "base_uri": "https://localhost:8080/"
        }
      },
      "execution_count": null,
      "outputs": [
        {
          "output_type": "stream",
          "name": "stdout",
          "text": [
            "0.5701468749380846\n"
          ]
        }
      ]
    },
    {
      "cell_type": "markdown",
      "source": [
        "- Change the fourth data point of `series_un` to 0.\n",
        "- Display `series_un`."
      ],
      "metadata": {
        "id": "tUWqNk_kd3jl"
      }
    },
    {
      "cell_type": "code",
      "source": [
        "## Insert your code here\n",
        "series_one['a'] = 0\n",
        "print(series_one)"
      ],
      "metadata": {
        "id": "bqOanfROd7tr",
        "outputId": "bdf5a5b4-0672-4697-cdcd-19774bd337f1",
        "colab": {
          "base_uri": "https://localhost:8080/"
        }
      },
      "execution_count": null,
      "outputs": [
        {
          "output_type": "stream",
          "name": "stdout",
          "text": [
            "a    0.000000\n",
            "b    0.140269\n",
            "c    0.493091\n",
            "d    0.321717\n",
            "dtype: float64\n"
          ]
        }
      ]
    },
    {
      "cell_type": "markdown",
      "source": [
        "Python consistently returns a `dtype: float64` when calling the Series. This represents the data type, in this case floats, and their encoding, here on 64 bits. You can specify the data type you want to handle when creating a Series.\n",
        "\n",
        "Furthermore, you can name the Series using the `name` parameter.\n",
        "\n",
        "- Create a variable `series_two` from an array of four ones.\n",
        "- Specify the data type `dtype` as `int`.\n",
        "- Name this Series `my_series`.\n",
        "- Display the Series."
      ],
      "metadata": {
        "id": "FTcTc90Cd8cV"
      }
    },
    {
      "cell_type": "code",
      "source": [
        "## Insert your code here\n",
        "series_two = pd.Series(np.ones(4), dtype = int, name = 'my_series')\n",
        "print(series_two)"
      ],
      "metadata": {
        "id": "rfY959wGeGr7",
        "outputId": "05f13bc2-34e2-4dcd-fa45-5edc38c2fb7a",
        "colab": {
          "base_uri": "https://localhost:8080/"
        }
      },
      "execution_count": null,
      "outputs": [
        {
          "output_type": "stream",
          "name": "stdout",
          "text": [
            "0    1\n",
            "1    1\n",
            "2    1\n",
            "3    1\n",
            "Name: my_series, dtype: int64\n"
          ]
        }
      ]
    },
    {
      "cell_type": "markdown",
      "source": [
        "The `describe()` function returns a variety of information about the Series it is applied to.\n",
        "\n",
        "- Create a variable `series_three` from an array of 20 random numbers uniformly distributed between 0 and 1.\n",
        "- Display information about the Series using `describe()`.\n"
      ],
      "metadata": {
        "id": "PNKXCGTceL0e"
      }
    },
    {
      "cell_type": "code",
      "source": [
        "## Insert your code here\n",
        "series_three = pd.Series(np.random.rand(20))\n",
        "series_three.describe()"
      ],
      "metadata": {
        "id": "yzfxfUh9eOIU",
        "outputId": "ba0a0ca9-3167-47eb-bbfd-c9fe0323c1fc",
        "colab": {
          "base_uri": "https://localhost:8080/"
        }
      },
      "execution_count": null,
      "outputs": [
        {
          "output_type": "execute_result",
          "data": {
            "text/plain": [
              "count    20.000000\n",
              "mean      0.328983\n",
              "std       0.254890\n",
              "min       0.072618\n",
              "25%       0.166325\n",
              "50%       0.240520\n",
              "75%       0.393073\n",
              "max       0.918765\n",
              "dtype: float64"
            ]
          },
          "metadata": {},
          "execution_count": 38
        }
      ]
    },
    {
      "cell_type": "markdown",
      "source": [
        "It's possible to add Series together. Pandas will sum the data with matching *indices*. If an *index* is missing in one of the Series, the resulting sum Series will display `NaN` (Not a Number) at that index.\n",
        "\n",
        "- Create a Series `series_four` from an array of 19 random numbers uniformly distributed between 0 and 1.\n",
        "- Sum `series_three` and `series_four`."
      ],
      "metadata": {
        "id": "QtzE8a1SePyL"
      }
    },
    {
      "cell_type": "code",
      "source": [
        "## Insert your code here\n",
        "series_four = pd.Series(np.random.rand(19))\n",
        "print(series_three + series_four)"
      ],
      "metadata": {
        "id": "Ov2FCuNWeYCV",
        "outputId": "23a2db52-f11f-40ea-e004-a7005debb66a",
        "colab": {
          "base_uri": "https://localhost:8080/"
        }
      },
      "execution_count": null,
      "outputs": [
        {
          "output_type": "stream",
          "name": "stdout",
          "text": [
            "0     0.989894\n",
            "1     0.879207\n",
            "2     0.246522\n",
            "3     0.985539\n",
            "4     1.149596\n",
            "5     0.764882\n",
            "6     0.936611\n",
            "7     0.615035\n",
            "8     0.949931\n",
            "9     0.358049\n",
            "10    0.606920\n",
            "11    1.273804\n",
            "12    0.839642\n",
            "13    0.450291\n",
            "14    0.754320\n",
            "15    0.630782\n",
            "16    0.556529\n",
            "17    0.583265\n",
            "18    0.830415\n",
            "19         NaN\n",
            "dtype: float64\n"
          ]
        }
      ]
    },
    {
      "cell_type": "markdown",
      "source": [
        "However, you can specify a particular value to use where the *indices* do not match during a summation. The following syntax is used:\n",
        "```\n",
        "## Assume a and b are two Series\n",
        "a.add(b, fill_value = 0)  ## we decide to replace with 0\n",
        "```\n",
        "\n",
        "- Sum `series_three` and `series_four` by specifying fill_value equal to 100."
      ],
      "metadata": {
        "id": "mNJ2fZ44eYd4"
      }
    },
    {
      "cell_type": "code",
      "source": [
        "## Insert your code here\n",
        "series_three.add(series_four, fill_value = 100)"
      ],
      "metadata": {
        "id": "9baF86eeefac",
        "outputId": "f8b8df55-3cf3-419a-fe35-1517b227dc2d",
        "colab": {
          "base_uri": "https://localhost:8080/"
        }
      },
      "execution_count": null,
      "outputs": [
        {
          "output_type": "execute_result",
          "data": {
            "text/plain": [
              "0       0.989894\n",
              "1       0.879207\n",
              "2       0.246522\n",
              "3       0.985539\n",
              "4       1.149596\n",
              "5       0.764882\n",
              "6       0.936611\n",
              "7       0.615035\n",
              "8       0.949931\n",
              "9       0.358049\n",
              "10      0.606920\n",
              "11      1.273804\n",
              "12      0.839642\n",
              "13      0.450291\n",
              "14      0.754320\n",
              "15      0.630782\n",
              "16      0.556529\n",
              "17      0.583265\n",
              "18      0.830415\n",
              "19    100.260295\n",
              "dtype: float64"
            ]
          },
          "metadata": {},
          "execution_count": 41
        }
      ]
    },
    {
      "cell_type": "markdown",
      "source": [
        "Lastly, it's possible to use mathematical operators on Series. The following syntax is used:\n",
        "```\n",
        "# Assume a is a Series\n",
        "a[a >= 0.5]  ## returns the data from a greater than 0.5\n",
        "a * 2  ## multiplies the data from a by two\n",
        "```\n",
        "\n",
        "- Create a variable `a`, and assign it a Series of integer numbers uniformly distributed between 1 and 20, with a size of 20.\n",
        "- Display the Series with data strictly greater than 10."
      ],
      "metadata": {
        "id": "GwdPFtD0egED"
      }
    },
    {
      "cell_type": "code",
      "source": [
        "## Insert your code here\n",
        "a = pd.Series(np.random.uniform(1,20, 20))\n",
        "print(a[a > 10])"
      ],
      "metadata": {
        "id": "2AngWsJteoSc",
        "outputId": "c80b8f29-677f-4e08-e21b-b61c73495c03",
        "colab": {
          "base_uri": "https://localhost:8080/"
        }
      },
      "execution_count": null,
      "outputs": [
        {
          "output_type": "stream",
          "name": "stdout",
          "text": [
            "0     19.764755\n",
            "1     14.680251\n",
            "2     14.027396\n",
            "3     16.106461\n",
            "5     17.298290\n",
            "6     13.474510\n",
            "7     15.428416\n",
            "9     12.414498\n",
            "13    10.083957\n",
            "16    10.018372\n",
            "17    16.821738\n",
            "19    19.636069\n",
            "dtype: float64\n"
          ]
        }
      ]
    },
    {
      "cell_type": "markdown",
      "source": [
        "To conclude on the manipulation of Series, we propose the following instructions:\n",
        "\n",
        "- Create an *index* of size 20 that includes \"boy\" or \"girl\" randomly distributed.\n",
        "- Create an array of size 20 that displays ages ranging from 3 to 16 years, randomly distributed.\n",
        "- Create a Series `cousins` with `name = \"my cousins\"`, the index created previously, and data from the array.\n",
        "- Retrieve the Series of \"boys\" into a Series `boys` and the Series of \"girls\" into a variable `girls`.\n",
        "- Display information about these two Series.\n"
      ],
      "metadata": {
        "id": "WgRFU_qmeo7h"
      }
    },
    {
      "cell_type": "code",
      "source": [
        "## Insert your code here\n",
        "index_series = [[\"boy\", \"girl\"][x] for x in np.random.randint(0, 2, 20)]\n",
        "age_series = np.random.randint(3, 16, 20)\n",
        "series = pd.Series(age_series, index = index_series, name = 'my cousins')\n",
        "boys = series[\"boy\"]\n",
        "girls = series['girl']\n",
        "boys.describe()\n"
      ],
      "metadata": {
        "id": "xX3E0v0yfJL7",
        "outputId": "27708837-c990-4a7a-e855-9124dbcc67e3",
        "colab": {
          "base_uri": "https://localhost:8080/"
        }
      },
      "execution_count": null,
      "outputs": [
        {
          "output_type": "execute_result",
          "data": {
            "text/plain": [
              "count     7.000000\n",
              "mean      9.000000\n",
              "std       2.236068\n",
              "min       5.000000\n",
              "25%       8.000000\n",
              "50%      10.000000\n",
              "75%      10.500000\n",
              "max      11.000000\n",
              "Name: my cousins, dtype: float64"
            ]
          },
          "metadata": {},
          "execution_count": 47
        }
      ]
    },
    {
      "cell_type": "code",
      "source": [
        "girls.describe()"
      ],
      "metadata": {
        "id": "qxX1HHNzIAUY",
        "outputId": "ac7d6c3f-58b6-4152-917f-6b3c6162e2db",
        "colab": {
          "base_uri": "https://localhost:8080/"
        }
      },
      "execution_count": null,
      "outputs": [
        {
          "output_type": "execute_result",
          "data": {
            "text/plain": [
              "count    13.000000\n",
              "mean      8.461538\n",
              "std       3.596651\n",
              "min       3.000000\n",
              "25%       6.000000\n",
              "50%       9.000000\n",
              "75%      11.000000\n",
              "max      15.000000\n",
              "Name: my cousins, dtype: float64"
            ]
          },
          "metadata": {},
          "execution_count": 48
        }
      ]
    },
    {
      "cell_type": "markdown",
      "source": [
        "Now we turn our attention to DataFrames. DataFrames are the two-dimensional extension of Series. Thus, the *indices* are shared among the columns of the DataFrame.\n",
        "\n",
        "A common way to create a DataFrame is by using a dictionary. The syntax is as follows:\n",
        "```\n",
        "pd.DataFrame({'Name of the first column': data, 'Name of the second column': data})\n",
        "```\n",
        "- Create a DataFrame data_one with two columns: 'Gender' and 'Age', using the data from the previous question.\n",
        "- Display the DataFrame."
      ],
      "metadata": {
        "id": "4KoD1X7ZfYGX"
      }
    },
    {
      "cell_type": "code",
      "source": [
        "## Insert your code here"
      ],
      "metadata": {
        "id": "13a135jrfYjz"
      },
      "execution_count": null,
      "outputs": []
    },
    {
      "cell_type": "markdown",
      "source": [
        "- Create a list *dominant_hand* of size 20 that contains \"left-handed\" or \"right-handed\" distributed randomly.\n",
        "- Add this list as a new column to *data_one*.\n",
        "  *Use the command `data_one['Dominant Hand'] = dominant_hand`*\n"
      ],
      "metadata": {
        "id": "OjcZjfXDf8AE"
      }
    },
    {
      "cell_type": "code",
      "source": [
        "## Insert your code here"
      ],
      "metadata": {
        "id": "tLzR35u6gCHl"
      },
      "execution_count": null,
      "outputs": []
    },
    {
      "cell_type": "markdown",
      "source": [
        "*Slicing* is possible with DataFrames.\n",
        "\n",
        "- Display the first 5 rows of *data_one*."
      ],
      "metadata": {
        "id": "vqW6_kc8gKhE"
      }
    },
    {
      "cell_type": "code",
      "source": [
        "## Insert your code here"
      ],
      "metadata": {
        "id": "uVkw5CJrgL57"
      },
      "execution_count": null,
      "outputs": []
    },
    {
      "cell_type": "markdown",
      "source": [
        "- Display the columns \"Gender\" and \"Dominant Hand\".\n"
      ],
      "metadata": {
        "id": "uWUpzA_YgWN-"
      }
    },
    {
      "cell_type": "markdown",
      "source": [
        "It is possible to concatenate two DataFrames using the command `pd.concat()`. The syntax is as follows:\n",
        "```\n",
        "# Assume X and Y are two DataFrames\n",
        "pd.concat([X,Y], axis = 0)  ## concatenates vertically\n",
        "pd.concat([X,Y], axis = 1)  ## concatenates horizontally\n",
        "```\n",
        "- Create a list of size 20 that includes \"red\", \"blue\", or \"green\" distributed randomly.\n",
        "- Create a DataFrame data_two from the previous list.\n",
        "- Add a name to the column using the command data_two.columns = ['Name of Column'].\n",
        "- Concatenate data_one and data_two into a new variable data_three.\n"
      ],
      "metadata": {
        "id": "m0D92LIRgR0y"
      }
    },
    {
      "cell_type": "code",
      "source": [
        "## Insert your code here"
      ],
      "metadata": {
        "id": "JiSwkgRignG7"
      },
      "execution_count": null,
      "outputs": []
    },
    {
      "cell_type": "markdown",
      "source": [
        "## **Open Exercise**\n",
        "We advice you to use pandas documentations or stackoverflow to find the answers of the following exercises .\n",
        "#### 1. Basic DataFrame Operations:\n",
        "\n",
        "- Create a DataFrame from a dictionary with keys: 'Name', 'Age', 'City' and populate it with some data.\n",
        "- Display the first 5 rows of the DataFrame.\n",
        "- Display the last 3 rows of the DataFrame.\n",
        "- Display the data types of each column.\n",
        "\n",
        "#### 2.Indexing and Selection:\n",
        "\n",
        "- Select the 'Name' and 'City' columns from the DataFrame.\n",
        "- Select the row at index 2 from the DataFrame.\n",
        "- Select the rows where 'Age' is greater than 25.\n",
        "\n",
        "#### 3. Sorting and Ranking:\n",
        "\n",
        "- Sort the DataFrame based on 'Age' in descending order.\n",
        "- Rank the DataFrame based on 'Age', with the oldest as rank 1.\n",
        "\n",
        "#### 4. Missing Data:\n",
        "\n",
        "- Introduce some missing values in the DataFrame using np.nan.\n",
        "- Fill the missing values with the mean of the non-missing values.\n",
        "- Drop the rows with missing values.\n",
        "\n",
        "#### 5.Grouping and Aggregation:\n",
        "\n",
        "- Group the DataFrame by 'City' and calculate the mean age for each city.\n",
        "- Find the maximum and minimum age for each city.\n",
        "\n",
        "#### 6.Merging, Joining, and Concatenating:\n",
        "\n",
        "- Create a second DataFrame with keys: 'Name', 'Job Title'.\n",
        "- Merge the two DataFrames on the 'Name' column.\n",
        "- Concatenate the two DataFrames vertically and then horizontally."
      ],
      "metadata": {
        "id": "mLsNSRsShgnX"
      }
    },
    {
      "cell_type": "code",
      "source": [
        "## Insert your code here"
      ],
      "metadata": {
        "id": "JyMcHO9Ah_yc"
      },
      "execution_count": null,
      "outputs": []
    }
  ]
}